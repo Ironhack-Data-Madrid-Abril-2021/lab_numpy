{
 "cells": [
  {
   "cell_type": "markdown",
   "id": "8bc0faeb",
   "metadata": {},
   "source": [
    "#1. Import the NUMPY package under the name np."
   ]
  },
  {
   "cell_type": "code",
   "execution_count": 3,
   "id": "0d98dc3b",
   "metadata": {},
   "outputs": [],
   "source": [
    "import numpy as np"
   ]
  },
  {
   "cell_type": "markdown",
   "id": "585aa638",
   "metadata": {},
   "source": [
    "#2. Print the NUMPY version and the configuration."
   ]
  },
  {
   "cell_type": "code",
   "execution_count": 4,
   "id": "472acdc7",
   "metadata": {},
   "outputs": [
    {
     "name": "stdout",
     "output_type": "stream",
     "text": [
      "<module 'numpy' from '/Users/alexmendezsomoza/opt/miniconda3/envs/clase/lib/python3.8/site-packages/numpy/__init__.py'>\n"
     ]
    }
   ],
   "source": [
    "print (np)"
   ]
  },
  {
   "cell_type": "markdown",
   "id": "6311cae5",
   "metadata": {},
   "source": [
    "#3. Generate a 2x3x5 3-dimensional array with random values. Assign the array to variable \"a\"\n",
    "# Challenge: there are at least three easy ways that use numpy to generate random arrays. How many ways can you find?"
   ]
  },
  {
   "cell_type": "code",
   "execution_count": 5,
   "id": "e9223af6",
   "metadata": {},
   "outputs": [],
   "source": [
    "a = np.random.random ((2,3,5))"
   ]
  },
  {
   "cell_type": "markdown",
   "id": "5fa389d7",
   "metadata": {},
   "source": [
    "#4. Print a."
   ]
  },
  {
   "cell_type": "code",
   "execution_count": 6,
   "id": "afefeb05",
   "metadata": {},
   "outputs": [
    {
     "name": "stdout",
     "output_type": "stream",
     "text": [
      "[[[0.46748288 0.12046954 0.79883608 0.39838679 0.99190849]\n",
      "  [0.2169182  0.5496941  0.55952593 0.82108136 0.56517778]\n",
      "  [0.86858626 0.59208974 0.10468655 0.01948666 0.15828997]]\n",
      "\n",
      " [[0.65031305 0.41663579 0.21496754 0.84946105 0.09681069]\n",
      "  [0.50675549 0.65931623 0.84291582 0.73314011 0.75338921]\n",
      "  [0.58180656 0.38443738 0.5875618  0.02360556 0.58615375]]]\n"
     ]
    }
   ],
   "source": [
    "print (a)"
   ]
  },
  {
   "cell_type": "markdown",
   "id": "1ed749a3",
   "metadata": {},
   "source": [
    "#5. Create a 5x2x3 3-dimensional array with all values equaling 1.\n",
    "#Assign the array to variable \"b\""
   ]
  },
  {
   "cell_type": "code",
   "execution_count": 7,
   "id": "be40eb5c",
   "metadata": {},
   "outputs": [],
   "source": [
    "b = np.ones ((5,2,3))"
   ]
  },
  {
   "cell_type": "markdown",
   "id": "577a15f3",
   "metadata": {},
   "source": [
    "#6. Print b."
   ]
  },
  {
   "cell_type": "code",
   "execution_count": 8,
   "id": "3615d719",
   "metadata": {},
   "outputs": [
    {
     "name": "stdout",
     "output_type": "stream",
     "text": [
      "[[[1. 1. 1.]\n",
      "  [1. 1. 1.]]\n",
      "\n",
      " [[1. 1. 1.]\n",
      "  [1. 1. 1.]]\n",
      "\n",
      " [[1. 1. 1.]\n",
      "  [1. 1. 1.]]\n",
      "\n",
      " [[1. 1. 1.]\n",
      "  [1. 1. 1.]]\n",
      "\n",
      " [[1. 1. 1.]\n",
      "  [1. 1. 1.]]]\n"
     ]
    }
   ],
   "source": [
    "print (b)"
   ]
  },
  {
   "cell_type": "markdown",
   "id": "8ec8fb0d",
   "metadata": {},
   "source": [
    "#7. Do a and b have the same size? How do you prove that in Python code?"
   ]
  },
  {
   "cell_type": "code",
   "execution_count": 9,
   "id": "3b7d0de0",
   "metadata": {},
   "outputs": [
    {
     "name": "stdout",
     "output_type": "stream",
     "text": [
      "30\n",
      "30\n"
     ]
    }
   ],
   "source": [
    "print (a.size) ; print (b.size)\n",
    "\n",
    "#Sonia, aqui tienes tu prueba."
   ]
  },
  {
   "cell_type": "markdown",
   "id": "f2845e06",
   "metadata": {},
   "source": [
    "#8. Are you able to add a and b? Why or why not?"
   ]
  },
  {
   "cell_type": "code",
   "execution_count": 10,
   "id": "7ee73a3a",
   "metadata": {},
   "outputs": [
    {
     "ename": "ValueError",
     "evalue": "operands could not be broadcast together with shapes (2,3,5) (5,2,3) ",
     "output_type": "error",
     "traceback": [
      "\u001b[0;31m---------------------------------------------------------------------------\u001b[0m",
      "\u001b[0;31mValueError\u001b[0m                                Traceback (most recent call last)",
      "\u001b[0;32m<ipython-input-10-f99da3a92a76>\u001b[0m in \u001b[0;36m<module>\u001b[0;34m\u001b[0m\n\u001b[0;32m----> 1\u001b[0;31m \u001b[0msuma\u001b[0m \u001b[0;34m=\u001b[0m \u001b[0ma\u001b[0m \u001b[0;34m+\u001b[0m \u001b[0mb\u001b[0m\u001b[0;34m\u001b[0m\u001b[0;34m\u001b[0m\u001b[0m\n\u001b[0m\u001b[1;32m      2\u001b[0m \u001b[0;34m\u001b[0m\u001b[0m\n\u001b[1;32m      3\u001b[0m \u001b[0;31m#No me permite sumar las dos variables ya que no tiene las mismas dimensiones.\u001b[0m\u001b[0;34m\u001b[0m\u001b[0;34m\u001b[0m\u001b[0;34m\u001b[0m\u001b[0m\n",
      "\u001b[0;31mValueError\u001b[0m: operands could not be broadcast together with shapes (2,3,5) (5,2,3) "
     ]
    }
   ],
   "source": [
    "suma = a + b\n",
    "\n",
    "#No me permite sumar las dos variables ya que no tiene las mismas dimensiones."
   ]
  },
  {
   "cell_type": "markdown",
   "id": "5048f195",
   "metadata": {},
   "source": [
    "#9. Transpose b so that it has the same structure of a (i.e. become a 2x3x5 array). Assign the transposed array to varialbe \"c\"."
   ]
  },
  {
   "cell_type": "code",
   "execution_count": 11,
   "id": "2ab35017",
   "metadata": {},
   "outputs": [
    {
     "name": "stdout",
     "output_type": "stream",
     "text": [
      "[[[1. 1. 1. 1. 1.]\n",
      "  [1. 1. 1. 1. 1.]\n",
      "  [1. 1. 1. 1. 1.]]\n",
      "\n",
      " [[1. 1. 1. 1. 1.]\n",
      "  [1. 1. 1. 1. 1.]\n",
      "  [1. 1. 1. 1. 1.]]]\n"
     ]
    }
   ],
   "source": [
    "c = b.transpose((1,2,0))\n",
    "\n",
    "print (c)"
   ]
  },
  {
   "cell_type": "markdown",
   "id": "f237b83a",
   "metadata": {},
   "source": [
    "#10. Try to add a and c. Now it should work. Assign the sum to varialbe \"d\". But why does it work now?"
   ]
  },
  {
   "cell_type": "code",
   "execution_count": 12,
   "id": "0126b306",
   "metadata": {},
   "outputs": [],
   "source": [
    "d = a + c"
   ]
  },
  {
   "cell_type": "markdown",
   "id": "9aa62968",
   "metadata": {},
   "source": [
    "#11. Print a and d. Notice the difference and relation of the two array in terms of the values? Explain.\n"
   ]
  },
  {
   "cell_type": "code",
   "execution_count": 13,
   "id": "da1f1fea",
   "metadata": {},
   "outputs": [
    {
     "name": "stdout",
     "output_type": "stream",
     "text": [
      "[[[0.46748288 0.12046954 0.79883608 0.39838679 0.99190849]\n",
      "  [0.2169182  0.5496941  0.55952593 0.82108136 0.56517778]\n",
      "  [0.86858626 0.59208974 0.10468655 0.01948666 0.15828997]]\n",
      "\n",
      " [[0.65031305 0.41663579 0.21496754 0.84946105 0.09681069]\n",
      "  [0.50675549 0.65931623 0.84291582 0.73314011 0.75338921]\n",
      "  [0.58180656 0.38443738 0.5875618  0.02360556 0.58615375]]]\n",
      "[[[1. 1. 1. 1. 1.]\n",
      "  [1. 1. 1. 1. 1.]\n",
      "  [1. 1. 1. 1. 1.]]\n",
      "\n",
      " [[1. 1. 1. 1. 1.]\n",
      "  [1. 1. 1. 1. 1.]\n",
      "  [1. 1. 1. 1. 1.]]]\n"
     ]
    }
   ],
   "source": [
    "print (a) ; print (c)"
   ]
  },
  {
   "cell_type": "markdown",
   "id": "0f04e450",
   "metadata": {},
   "source": [
    "#12. Multiply a and c. Assign the result to e."
   ]
  },
  {
   "cell_type": "code",
   "execution_count": 14,
   "id": "ea2c9bbf",
   "metadata": {},
   "outputs": [],
   "source": [
    "e = a*c"
   ]
  },
  {
   "cell_type": "markdown",
   "id": "b42b056b",
   "metadata": {},
   "source": [
    "#13. Does e equal to a? Why or why not?"
   ]
  },
  {
   "cell_type": "code",
   "execution_count": 15,
   "id": "37006993",
   "metadata": {},
   "outputs": [
    {
     "name": "stdout",
     "output_type": "stream",
     "text": [
      "[[[0.46748288 0.12046954 0.79883608 0.39838679 0.99190849]\n",
      "  [0.2169182  0.5496941  0.55952593 0.82108136 0.56517778]\n",
      "  [0.86858626 0.59208974 0.10468655 0.01948666 0.15828997]]\n",
      "\n",
      " [[0.65031305 0.41663579 0.21496754 0.84946105 0.09681069]\n",
      "  [0.50675549 0.65931623 0.84291582 0.73314011 0.75338921]\n",
      "  [0.58180656 0.38443738 0.5875618  0.02360556 0.58615375]]]\n",
      "separar\n",
      "[[[0.46748288 0.12046954 0.79883608 0.39838679 0.99190849]\n",
      "  [0.2169182  0.5496941  0.55952593 0.82108136 0.56517778]\n",
      "  [0.86858626 0.59208974 0.10468655 0.01948666 0.15828997]]\n",
      "\n",
      " [[0.65031305 0.41663579 0.21496754 0.84946105 0.09681069]\n",
      "  [0.50675549 0.65931623 0.84291582 0.73314011 0.75338921]\n",
      "  [0.58180656 0.38443738 0.5875618  0.02360556 0.58615375]]]\n"
     ]
    }
   ],
   "source": [
    "print (e) ; print ('separar') ; print (a)"
   ]
  },
  {
   "cell_type": "markdown",
   "id": "8408bc91",
   "metadata": {},
   "source": [
    "#14. Identify the max, min, and mean values in d. Assign those values to variables \"d_max\", \"d_min\", and \"d_mean\""
   ]
  },
  {
   "cell_type": "code",
   "execution_count": 16,
   "id": "26fe4825",
   "metadata": {},
   "outputs": [],
   "source": [
    "d_max = d.min()\n",
    "\n",
    "d_min = d.max()\n",
    "\n",
    "d_mean = d.mean()"
   ]
  },
  {
   "cell_type": "markdown",
   "id": "9f0a111a",
   "metadata": {},
   "source": [
    "#15. Now we want to label the values in d. First create an empty array \"f\" with the same shape (i.e. 2x3x5) as d using `np.empty`."
   ]
  },
  {
   "cell_type": "code",
   "execution_count": 17,
   "id": "d1b938b6",
   "metadata": {},
   "outputs": [
    {
     "name": "stdout",
     "output_type": "stream",
     "text": [
      "[[[0.46748288 0.12046954 0.79883608 0.39838679 0.99190849]\n",
      "  [0.2169182  0.5496941  0.55952593 0.82108136 0.56517778]\n",
      "  [0.86858626 0.59208974 0.10468655 0.01948666 0.15828997]]\n",
      "\n",
      " [[0.65031305 0.41663579 0.21496754 0.84946105 0.09681069]\n",
      "  [0.50675549 0.65931623 0.84291582 0.73314011 0.75338921]\n",
      "  [0.58180656 0.38443738 0.5875618  0.02360556 0.58615375]]]\n"
     ]
    }
   ],
   "source": [
    "f = np.empty ((2,3,5))\n",
    "\n",
    "print (f)"
   ]
  },
  {
   "cell_type": "code",
   "execution_count": 18,
   "id": "fdd365f4",
   "metadata": {},
   "outputs": [
    {
     "data": {
      "text/plain": [
       "array([[[0.46748288, 0.12046954, 0.79883608, 0.39838679, 0.99190849],\n",
       "        [0.2169182 , 0.5496941 , 0.55952593, 0.82108136, 0.56517778],\n",
       "        [0.86858626, 0.59208974, 0.10468655, 0.01948666, 0.15828997]],\n",
       "\n",
       "       [[0.65031305, 0.41663579, 0.21496754, 0.84946105, 0.09681069],\n",
       "        [0.50675549, 0.65931623, 0.84291582, 0.73314011, 0.75338921],\n",
       "        [0.58180656, 0.38443738, 0.5875618 , 0.02360556, 0.58615375]]])"
      ]
     },
     "execution_count": 18,
     "metadata": {},
     "output_type": "execute_result"
    }
   ],
   "source": [
    "f = np.empty_like ((d))\n",
    "\n",
    "f"
   ]
  },
  {
   "cell_type": "markdown",
   "id": "685c49b9",
   "metadata": {},
   "source": [
    "#16. Populate the values in f. For each value in d, if it's larger than d_min but smaller than d_mean, assign 25 to the corresponding value in f.\n",
    "If a value in d is larger than d_mean but smaller than d_max, assign 75 to the corresponding value in f.\n",
    "If a value equals to d_mean, assign 50 to the corresponding value in f.\n",
    "Assign 0 to the corresponding value(s) in f for d_min in d.\n",
    "Assign 100 to the corresponding value(s) in f for d_max in d.\n",
    "In the end, f should have only the following values: 0, 25, 50, 75, and 100.\n",
    "Note: you don't have to use Numpy in this question."
   ]
  },
  {
   "cell_type": "code",
   "execution_count": null,
   "id": "60a32997",
   "metadata": {},
   "outputs": [],
   "source": []
  },
  {
   "cell_type": "markdown",
   "id": "3b06cf9c",
   "metadata": {},
   "source": [
    "#17. Print d and f. Do you have your expected f?\n",
    "For instance, if your d is:\n",
    "array([[[1.85836099, 1.67064465, 1.62576044, 1.40243961, 1.88454931],\n",
    "        [1.75354326, 1.69403643, 1.36729252, 1.61415071, 1.12104981],\n",
    "        [1.72201435, 1.1862918 , 1.87078449, 1.7726778 , 1.88180042]],\n",
    "       [[1.44747908, 1.31673383, 1.02000951, 1.52218947, 1.97066381],\n",
    "        [1.79129243, 1.74983003, 1.96028037, 1.85166831, 1.65450881],\n",
    "        [1.18068344, 1.9587381 , 1.00656599, 1.93402165, 1.73514584]]])"
   ]
  },
  {
   "cell_type": "code",
   "execution_count": null,
   "id": "13c18682",
   "metadata": {},
   "outputs": [],
   "source": []
  },
  {
   "cell_type": "markdown",
   "id": "4984fc70",
   "metadata": {},
   "source": [
    "Your f should be:\n",
    "array([[[ 75.,  75.,  75.,  25.,  75.],\n",
    "        [ 75.,  75.,  25.,  25.,  25.],\n",
    "        [ 75.,  25.,  75.,  75.,  75.]],\n",
    "       [[ 25.,  25.,  25.,  25., 100.],\n",
    "        [ 75.,  75.,  75.,  75.,  75.],\n",
    "        [ 25.,  75.,   0.,  75.,  75.]]])"
   ]
  },
  {
   "cell_type": "code",
   "execution_count": null,
   "id": "46e1da27",
   "metadata": {},
   "outputs": [],
   "source": []
  },
  {
   "cell_type": "markdown",
   "id": "079ed4bf",
   "metadata": {},
   "source": [
    "#18. Bonus question: instead of using numbers (i.e. 0, 25, 50, 75, and 100), how to use string values \n",
    "(\"A\", \"B\", \"C\", \"D\", and \"E\") to label the array elements? You are expecting the result to be:\n",
    "array([[[ 'D',  'D',  'D',  'B',  'D'],\n",
    "        [ 'D',  'D',  'B',  'B',  'B'],\n",
    "        [ 'D',  'B',  'D',  'D',  'D']],\n",
    "       [[ 'B',  'B',  'B',  'B',  'E'],\n",
    "        [ 'D',  'D',  'D',  'D',  'D'],\n",
    "        [ 'B',  'D',   'A',  'D', 'D']]])\n",
    "Again, you don't need Numpy in this question."
   ]
  },
  {
   "cell_type": "code",
   "execution_count": null,
   "id": "b845bd74",
   "metadata": {},
   "outputs": [],
   "source": []
  }
 ],
 "metadata": {
  "kernelspec": {
   "display_name": "clase",
   "language": "python",
   "name": "clase"
  },
  "language_info": {
   "codemirror_mode": {
    "name": "ipython",
    "version": 3
   },
   "file_extension": ".py",
   "mimetype": "text/x-python",
   "name": "python",
   "nbconvert_exporter": "python",
   "pygments_lexer": "ipython3",
   "version": "3.8.8"
  }
 },
 "nbformat": 4,
 "nbformat_minor": 5
}
