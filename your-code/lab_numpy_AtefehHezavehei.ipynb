{
 "cells": [
  {
   "cell_type": "code",
   "execution_count": 1,
   "id": "35c9d156",
   "metadata": {},
   "outputs": [],
   "source": [
    "#1. Import the NUMPY package under the name np.\n",
    "import numpy as np"
   ]
  },
  {
   "cell_type": "code",
   "execution_count": 2,
   "id": "15645407",
   "metadata": {},
   "outputs": [
    {
     "name": "stdout",
     "output_type": "stream",
     "text": [
      "1.20.2\n",
      "blas_mkl_info:\n",
      "  NOT AVAILABLE\n",
      "blis_info:\n",
      "  NOT AVAILABLE\n",
      "openblas_info:\n",
      "    library_dirs = ['D:\\\\a\\\\1\\\\s\\\\numpy\\\\build\\\\openblas_info']\n",
      "    libraries = ['openblas_info']\n",
      "    language = f77\n",
      "    define_macros = [('HAVE_CBLAS', None)]\n",
      "blas_opt_info:\n",
      "    library_dirs = ['D:\\\\a\\\\1\\\\s\\\\numpy\\\\build\\\\openblas_info']\n",
      "    libraries = ['openblas_info']\n",
      "    language = f77\n",
      "    define_macros = [('HAVE_CBLAS', None)]\n",
      "lapack_mkl_info:\n",
      "  NOT AVAILABLE\n",
      "openblas_lapack_info:\n",
      "    library_dirs = ['D:\\\\a\\\\1\\\\s\\\\numpy\\\\build\\\\openblas_lapack_info']\n",
      "    libraries = ['openblas_lapack_info']\n",
      "    language = f77\n",
      "    define_macros = [('HAVE_CBLAS', None)]\n",
      "lapack_opt_info:\n",
      "    library_dirs = ['D:\\\\a\\\\1\\\\s\\\\numpy\\\\build\\\\openblas_lapack_info']\n",
      "    libraries = ['openblas_lapack_info']\n",
      "    language = f77\n",
      "    define_macros = [('HAVE_CBLAS', None)]\n",
      "None\n"
     ]
    }
   ],
   "source": [
    "#2. Print the NUMPY version and the configuration.\n",
    "print(np.__version__)\n",
    "print(np.show_config())"
   ]
  },
  {
   "cell_type": "code",
   "execution_count": 3,
   "id": "2758d48c",
   "metadata": {
    "scrolled": true
   },
   "outputs": [],
   "source": [
    "#3. Generate a 2x3x5 3-dimensional array with random values. Assign the array to variable \"a\"\n",
    "# Challenge: there are at least three easy ways that use numpy to generate random arrays. How many ways can you find?\n",
    "a = np.random.random((2,3,5))\n",
    "a_plus=np.random.rand(2,3,5)\n",
    "a_plus_plus=np.random.uniform(size = (2, 3, 5))"
   ]
  },
  {
   "cell_type": "code",
   "execution_count": 14,
   "id": "bf0c2c07",
   "metadata": {},
   "outputs": [
    {
     "name": "stdout",
     "output_type": "stream",
     "text": [
      "[[[0.16186908 0.04892578 0.01747286 0.8934664  0.26546789]\n",
      "  [0.65408393 0.53695562 0.62795746 0.64247261 0.37744178]\n",
      "  [0.06100193 0.79578122 0.39063577 0.77692976 0.25358052]]\n",
      "\n",
      " [[0.73094197 0.2982815  0.95133188 0.83475614 0.85745861]\n",
      "  [0.54878224 0.61133942 0.69690109 0.83184634 0.98594414]\n",
      "  [0.35524243 0.69057473 0.76210548 0.80920676 0.58073662]]]\n"
     ]
    },
    {
     "data": {
      "text/plain": [
       "(2, 3, 5)"
      ]
     },
     "execution_count": 14,
     "metadata": {},
     "output_type": "execute_result"
    }
   ],
   "source": [
    "#4. Print a.\n",
    "print(a)\n",
    "a.shape"
   ]
  },
  {
   "cell_type": "code",
   "execution_count": 4,
   "id": "39db0513",
   "metadata": {},
   "outputs": [],
   "source": [
    "#5. Create a 5x2x3 3-dimensional array with all values equaling 1.\n",
    "#Assign the array to variable \"b\"\n",
    "b = np.ones((5,2,3)) "
   ]
  },
  {
   "cell_type": "code",
   "execution_count": 12,
   "id": "75f90632",
   "metadata": {},
   "outputs": [
    {
     "name": "stdout",
     "output_type": "stream",
     "text": [
      "[[[1. 1. 1.]\n",
      "  [1. 1. 1.]]\n",
      "\n",
      " [[1. 1. 1.]\n",
      "  [1. 1. 1.]]\n",
      "\n",
      " [[1. 1. 1.]\n",
      "  [1. 1. 1.]]\n",
      "\n",
      " [[1. 1. 1.]\n",
      "  [1. 1. 1.]]\n",
      "\n",
      " [[1. 1. 1.]\n",
      "  [1. 1. 1.]]]\n"
     ]
    },
    {
     "data": {
      "text/plain": [
       "(5, 2, 3)"
      ]
     },
     "execution_count": 12,
     "metadata": {},
     "output_type": "execute_result"
    }
   ],
   "source": [
    "#6. Print b\n",
    "print(b)\n",
    "b.shape"
   ]
  },
  {
   "cell_type": "code",
   "execution_count": 15,
   "id": "2fd7a06c",
   "metadata": {},
   "outputs": [
    {
     "name": "stdout",
     "output_type": "stream",
     "text": [
      "samesize 30 30\n",
      "Differentlengh 2 5\n"
     ]
    }
   ],
   "source": [
    "#7. Do a and b have the same size? How do you prove that in Python code?\n",
    "if a.size==b.size:\n",
    "    print(\"samesize\", a.size, b.size)\n",
    "if len(a)==len(b):\n",
    "    print(\"samelength\", len(a), len(b))\n",
    "else:\n",
    "        print(\"Differentlengh\", len(a), len(b))"
   ]
  },
  {
   "cell_type": "code",
   "execution_count": 16,
   "id": "5d4a37bb",
   "metadata": {},
   "outputs": [
    {
     "ename": "ValueError",
     "evalue": "operands could not be broadcast together with shapes (2,3,5) (5,2,3) ",
     "output_type": "error",
     "traceback": [
      "\u001b[1;31m---------------------------------------------------------------------------\u001b[0m",
      "\u001b[1;31mValueError\u001b[0m                                Traceback (most recent call last)",
      "\u001b[1;32m<ipython-input-16-ae20e8e1257f>\u001b[0m in \u001b[0;36m<module>\u001b[1;34m\u001b[0m\n\u001b[0;32m      1\u001b[0m \u001b[1;31m#8. Are you able to add a and b? Why or why not?\u001b[0m\u001b[1;33m\u001b[0m\u001b[1;33m\u001b[0m\u001b[1;33m\u001b[0m\u001b[0m\n\u001b[1;32m----> 2\u001b[1;33m \u001b[0mnp\u001b[0m\u001b[1;33m.\u001b[0m\u001b[0madd\u001b[0m\u001b[1;33m(\u001b[0m\u001b[0ma\u001b[0m\u001b[1;33m,\u001b[0m\u001b[0mb\u001b[0m\u001b[1;33m)\u001b[0m\u001b[1;33m\u001b[0m\u001b[1;33m\u001b[0m\u001b[0m\n\u001b[0m",
      "\u001b[1;31mValueError\u001b[0m: operands could not be broadcast together with shapes (2,3,5) (5,2,3) "
     ]
    }
   ],
   "source": [
    "#8. Are you able to add a and b? Why or why not?\n",
    "np.add(a,b)"
   ]
  },
  {
   "cell_type": "code",
   "execution_count": 27,
   "id": "8abf7d90",
   "metadata": {},
   "outputs": [
    {
     "data": {
      "text/plain": [
       "(2, 3, 5)"
      ]
     },
     "execution_count": 27,
     "metadata": {},
     "output_type": "execute_result"
    }
   ],
   "source": [
    "#9. Transpose b so that it has the same structure of a (i.e. become a 2x3x5 array). Assign the transposed array to varialbe \"c\".\n",
    "c=b.transpose(1,2,0) #Axis x=0 y=1, b=2\n",
    "c.shape"
   ]
  },
  {
   "cell_type": "code",
   "execution_count": 28,
   "id": "09f62fe7",
   "metadata": {},
   "outputs": [],
   "source": [
    "#10. Try to add a and c. Now it should work. Assign the sum to varialbe \"d\". But why does it work now?\n",
    "d=np.add(a,c)"
   ]
  },
  {
   "cell_type": "code",
   "execution_count": 33,
   "id": "941a812e",
   "metadata": {},
   "outputs": [
    {
     "name": "stdout",
     "output_type": "stream",
     "text": [
      "[[[0.16186908 0.04892578 0.01747286 0.8934664  0.26546789]\n",
      "  [0.65408393 0.53695562 0.62795746 0.64247261 0.37744178]\n",
      "  [0.06100193 0.79578122 0.39063577 0.77692976 0.25358052]]\n",
      "\n",
      " [[0.73094197 0.2982815  0.95133188 0.83475614 0.85745861]\n",
      "  [0.54878224 0.61133942 0.69690109 0.83184634 0.98594414]\n",
      "  [0.35524243 0.69057473 0.76210548 0.80920676 0.58073662]]]\n"
     ]
    }
   ],
   "source": [
    "#11. Print a and d. Notice the difference and relation of the two array in terms of the values? Explain.\n",
    "print(a)"
   ]
  },
  {
   "cell_type": "code",
   "execution_count": 32,
   "id": "04568787",
   "metadata": {},
   "outputs": [
    {
     "name": "stdout",
     "output_type": "stream",
     "text": [
      "[[[1.16186908 1.04892578 1.01747286 1.8934664  1.26546789]\n",
      "  [1.65408393 1.53695562 1.62795746 1.64247261 1.37744178]\n",
      "  [1.06100193 1.79578122 1.39063577 1.77692976 1.25358052]]\n",
      "\n",
      " [[1.73094197 1.2982815  1.95133188 1.83475614 1.85745861]\n",
      "  [1.54878224 1.61133942 1.69690109 1.83184634 1.98594414]\n",
      "  [1.35524243 1.69057473 1.76210548 1.80920676 1.58073662]]]\n"
     ]
    }
   ],
   "source": [
    "#11. Print a and d. Notice the difference and relation of the two array in terms of the values? Explain.\n",
    "print(d)\n",
    "#1+has been added to all the values of a"
   ]
  },
  {
   "cell_type": "code",
   "execution_count": 36,
   "id": "137a9be7",
   "metadata": {},
   "outputs": [
    {
     "name": "stdout",
     "output_type": "stream",
     "text": [
      "[[[0.16186908 0.04892578 0.01747286 0.8934664  0.26546789]\n",
      "  [0.65408393 0.53695562 0.62795746 0.64247261 0.37744178]\n",
      "  [0.06100193 0.79578122 0.39063577 0.77692976 0.25358052]]\n",
      "\n",
      " [[0.73094197 0.2982815  0.95133188 0.83475614 0.85745861]\n",
      "  [0.54878224 0.61133942 0.69690109 0.83184634 0.98594414]\n",
      "  [0.35524243 0.69057473 0.76210548 0.80920676 0.58073662]]]\n"
     ]
    }
   ],
   "source": [
    "#12. Multiply a and c. Assign the result to e.\n",
    "e=np.multiply(a,c)\n",
    "e.shape\n",
    "print(a)"
   ]
  },
  {
   "cell_type": "code",
   "execution_count": 37,
   "id": "d501e392",
   "metadata": {},
   "outputs": [
    {
     "name": "stdout",
     "output_type": "stream",
     "text": [
      "[[[0.16186908 0.04892578 0.01747286 0.8934664  0.26546789]\n",
      "  [0.65408393 0.53695562 0.62795746 0.64247261 0.37744178]\n",
      "  [0.06100193 0.79578122 0.39063577 0.77692976 0.25358052]]\n",
      "\n",
      " [[0.73094197 0.2982815  0.95133188 0.83475614 0.85745861]\n",
      "  [0.54878224 0.61133942 0.69690109 0.83184634 0.98594414]\n",
      "  [0.35524243 0.69057473 0.76210548 0.80920676 0.58073662]]]\n"
     ]
    }
   ],
   "source": [
    "#13. Does e equal to a? Why or why not?\n",
    "print(e)\n",
    "#Yes, they are same cause c has only 1 and every numberX1 is the same as 1."
   ]
  },
  {
   "cell_type": "code",
   "execution_count": 68,
   "id": "9f45e68c",
   "metadata": {},
   "outputs": [],
   "source": [
    "#14. Identify the max, min, and mean values in d. Assign those values to variables \"d_max\", \"d_min\", and \"d_mean\"\n",
    "d_max=d.max()\n",
    "d_min=d.min()\n",
    "d_mean=d.mean()"
   ]
  },
  {
   "cell_type": "code",
   "execution_count": 56,
   "id": "e3c642e5",
   "metadata": {},
   "outputs": [],
   "source": [
    "#15.label the values in d. First create an empty array \"f\" with the same shape (i.e. 2x3x5) as d using `np.empty`.\n",
    "f=np.empty([2,3,5])"
   ]
  },
  {
   "cell_type": "code",
   "execution_count": 139,
   "id": "99609d4c",
   "metadata": {},
   "outputs": [],
   "source": [
    "\"\"\"\n",
    "#16. Populate the values in f. For each value in d, if it's larger than d_min but smaller than d_mean, assign 25 to the corresponding value in f.\n",
    "If a value in d is larger than d_mean but smaller than d_max, assign 75 to the corresponding value in f.\n",
    "If a value equals to d_mean, assign 50 to the corresponding value in f.\n",
    "Assign 0 to the corresponding value(s) in f for d_min in d.\n",
    "Assign 100 to the corresponding value(s) in f for d_max in d.\n",
    "In the end, f should have only the following values: 0, 25, 50, 75, and 100. ,Note: you don't have to use Numpy in this question.\n",
    "\"\"\"\n",
    "for i in range(d.shape[0]):\n",
    "    for j in range(d.shape[1]):\n",
    "        for k in range(d.shape[2]):\n",
    "            if d[i][j][k]==d_max:\n",
    "                f[i][j][k]=100\n",
    "            elif d[i][j][k]==d_min:\n",
    "                f[i][j][k]=0\n",
    "            elif d[i][j][k]==d_mean:\n",
    "                f[i][j][k]=50\n",
    "            elif d_min<d[i][j][k]<d_mean:\n",
    "                f[i][j][k]=25\n",
    "            elif d_mean<d[i][j][k]<d_max:\n",
    "                f[i][j][k]=75"
   ]
  },
  {
   "cell_type": "code",
   "execution_count": 138,
   "id": "cdba358f",
   "metadata": {},
   "outputs": [
    {
     "name": "stdout",
     "output_type": "stream",
     "text": [
      "[[[ 25.  25.   0.  75.  25.]\n",
      "  [ 75.  25.  75.  75.  25.]\n",
      "  [ 25.  75.  25.  75.  25.]]\n",
      "\n",
      " [[ 75.  25.  75.  75.  75.]\n",
      "  [ 25.  75.  75.  75. 100.]\n",
      "  [ 25.  75.  75.  75.  75.]]]\n"
     ]
    }
   ],
   "source": [
    "\"\"\"\n",
    "#17. Print d and f. Do you have your expected f?\n",
    "For instance, if your d is:\n",
    "array([[[1.85836099, 1.67064465, 1.62576044, 1.40243961, 1.88454931],\n",
    "        [1.75354326, 1.69403643, 1.36729252, 1.61415071, 1.12104981],\n",
    "        [1.72201435, 1.1862918 , 1.87078449, 1.7726778 , 1.88180042]],\n",
    "\n",
    "       [[1.44747908, 1.31673383, 1.02000951, 1.52218947, 1.97066381],\n",
    "        [1.79129243, 1.74983003, 1.96028037, 1.85166831, 1.65450881],\n",
    "        [1.18068344, 1.9587381 , 1.00656599, 1.93402165, 1.73514584]]])\n",
    "\n",
    "Your f should be:\n",
    "array([[[ 75.,  75.,  75.,  25.,  75.],\n",
    "        [ 75.,  75.,  25.,  25.,  25.],\n",
    "        [ 75.,  25.,  75.,  75.,  75.]],\n",
    "\n",
    "       [[ 25.,  25.,  25.,  25., 100.],\n",
    "        [ 75.,  75.,  75.,  75.,  75.],\n",
    "        [ 25.,  75.,   0.,  75.,  75.]]])\n",
    "\"\"\"\n",
    "print(f)"
   ]
  },
  {
   "cell_type": "code",
   "execution_count": null,
   "id": "e71cfdbc",
   "metadata": {},
   "outputs": [],
   "source": []
  }
 ],
 "metadata": {
  "kernelspec": {
   "display_name": "Python 3",
   "language": "python",
   "name": "python3"
  },
  "language_info": {
   "codemirror_mode": {
    "name": "ipython",
    "version": 3
   },
   "file_extension": ".py",
   "mimetype": "text/x-python",
   "name": "python",
   "nbconvert_exporter": "python",
   "pygments_lexer": "ipython3",
   "version": "3.9.2"
  }
 },
 "nbformat": 4,
 "nbformat_minor": 5
}
