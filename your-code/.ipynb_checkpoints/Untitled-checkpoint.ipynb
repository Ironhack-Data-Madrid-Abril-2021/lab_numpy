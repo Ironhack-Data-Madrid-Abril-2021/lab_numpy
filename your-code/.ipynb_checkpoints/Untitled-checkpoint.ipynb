{
 "cells": [
  {
   "cell_type": "markdown",
   "id": "stone-wedding",
   "metadata": {},
   "source": [
    "# 1. Import the NUMPY package under the name np."
   ]
  },
  {
   "cell_type": "code",
   "execution_count": 1,
   "id": "solid-greensboro",
   "metadata": {},
   "outputs": [],
   "source": [
    "import numpy as np"
   ]
  },
  {
   "cell_type": "markdown",
   "id": "analyzed-interpretation",
   "metadata": {},
   "source": [
    "# 2. Print the NUMPY version and the configuration."
   ]
  },
  {
   "cell_type": "code",
   "execution_count": 2,
   "id": "novel-exemption",
   "metadata": {},
   "outputs": [
    {
     "data": {
      "text/plain": [
       "'1.20.2'"
      ]
     },
     "execution_count": 2,
     "metadata": {},
     "output_type": "execute_result"
    }
   ],
   "source": [
    "np.version.version"
   ]
  },
  {
   "cell_type": "markdown",
   "id": "oriental-pakistan",
   "metadata": {},
   "source": [
    "# 3. Generate a 2x3x5 3-dimensional array with random values. Assign the array to variable \"a\". Challenge: there are at least three easy ways that use numpy to generate random arrays. How many ways can you find?"
   ]
  },
  {
   "cell_type": "code",
   "execution_count": 3,
   "id": "transsexual-drawing",
   "metadata": {},
   "outputs": [],
   "source": [
    "a = np.random.random((2,3,5)) # method 1\n",
    "from numpy import random\n",
    "a1 = random.randint(100,size=(2,5,3)) # method 2\n",
    "a2 = random.rand(2, 5, 3) # method 3"
   ]
  },
  {
   "cell_type": "markdown",
   "id": "extreme-integral",
   "metadata": {},
   "source": [
    "# 4. Print a."
   ]
  },
  {
   "cell_type": "code",
   "execution_count": 4,
   "id": "electric-portland",
   "metadata": {},
   "outputs": [
    {
     "name": "stdout",
     "output_type": "stream",
     "text": [
      "[[[0.61835338 0.4318822  0.3321428  0.6003409  0.50504851]\n",
      "  [0.27231101 0.6494446  0.80877892 0.01853542 0.01876546]\n",
      "  [0.39762229 0.69896694 0.9910836  0.37221002 0.82257278]]\n",
      "\n",
      " [[0.88116733 0.05073404 0.99497705 0.0896365  0.49318418]\n",
      "  [0.02213988 0.45213365 0.01392262 0.34545535 0.15921214]\n",
      "  [0.89587807 0.44441276 0.75688532 0.75088648 0.03803041]]]\n"
     ]
    }
   ],
   "source": [
    "print(a)"
   ]
  },
  {
   "cell_type": "markdown",
   "id": "southern-advancement",
   "metadata": {},
   "source": [
    "# 5. Create a 5x2x3 3-dimensional array with all values equaling 1.\n",
    "#Assign the array to variable \"b\""
   ]
  },
  {
   "cell_type": "code",
   "execution_count": 5,
   "id": "ruled-immune",
   "metadata": {},
   "outputs": [],
   "source": [
    "b = np.ones((5,2,3))"
   ]
  },
  {
   "cell_type": "markdown",
   "id": "twelve-hamilton",
   "metadata": {},
   "source": [
    "# 6. Print b."
   ]
  },
  {
   "cell_type": "code",
   "execution_count": 6,
   "id": "continuous-visibility",
   "metadata": {},
   "outputs": [
    {
     "name": "stdout",
     "output_type": "stream",
     "text": [
      "[[[1. 1. 1.]\n",
      "  [1. 1. 1.]]\n",
      "\n",
      " [[1. 1. 1.]\n",
      "  [1. 1. 1.]]\n",
      "\n",
      " [[1. 1. 1.]\n",
      "  [1. 1. 1.]]\n",
      "\n",
      " [[1. 1. 1.]\n",
      "  [1. 1. 1.]]\n",
      "\n",
      " [[1. 1. 1.]\n",
      "  [1. 1. 1.]]]\n"
     ]
    }
   ],
   "source": [
    "print(b)"
   ]
  },
  {
   "cell_type": "markdown",
   "id": "anonymous-model",
   "metadata": {},
   "source": [
    "# 7. Do a and b have the same size? How do you prove that in Python code?"
   ]
  },
  {
   "cell_type": "code",
   "execution_count": 7,
   "id": "attended-gardening",
   "metadata": {},
   "outputs": [
    {
     "data": {
      "text/plain": [
       "True"
      ]
     },
     "execution_count": 7,
     "metadata": {},
     "output_type": "execute_result"
    }
   ],
   "source": [
    "a.size == b.size"
   ]
  },
  {
   "cell_type": "markdown",
   "id": "accepting-champagne",
   "metadata": {},
   "source": [
    "# 8. Are you able to add a and b? Why or why not?"
   ]
  },
  {
   "cell_type": "code",
   "execution_count": 8,
   "id": "major-dating",
   "metadata": {},
   "outputs": [
    {
     "ename": "ValueError",
     "evalue": "operands could not be broadcast together with shapes (2,3,5) (5,2,3) ",
     "output_type": "error",
     "traceback": [
      "\u001b[1;31m---------------------------------------------------------------------------\u001b[0m",
      "\u001b[1;31mValueError\u001b[0m                                Traceback (most recent call last)",
      "\u001b[1;32m<ipython-input-8-c17f8b38d6eb>\u001b[0m in \u001b[0;36m<module>\u001b[1;34m\u001b[0m\n\u001b[1;32m----> 1\u001b[1;33m \u001b[0mnp\u001b[0m\u001b[1;33m.\u001b[0m\u001b[0madd\u001b[0m\u001b[1;33m(\u001b[0m\u001b[0ma\u001b[0m\u001b[1;33m,\u001b[0m \u001b[0mb\u001b[0m\u001b[1;33m)\u001b[0m\u001b[1;33m\u001b[0m\u001b[1;33m\u001b[0m\u001b[0m\n\u001b[0m",
      "\u001b[1;31mValueError\u001b[0m: operands could not be broadcast together with shapes (2,3,5) (5,2,3) "
     ]
    }
   ],
   "source": [
    "np.add(a, b)"
   ]
  },
  {
   "cell_type": "markdown",
   "id": "thirty-myrtle",
   "metadata": {},
   "source": [
    "#answer: even though the two structures have the same size/ numbers of elements (30), they can't be added as they have different dimensions as stated above"
   ]
  },
  {
   "cell_type": "markdown",
   "id": "naughty-animal",
   "metadata": {},
   "source": [
    "# 9. Transpose b so that it has the same structure of a (i.e. become a 2x3x5 array). Assign the transposed array to variable \"c\"."
   ]
  },
  {
   "cell_type": "code",
   "execution_count": 9,
   "id": "million-sampling",
   "metadata": {},
   "outputs": [
    {
     "name": "stdout",
     "output_type": "stream",
     "text": [
      "[[[1. 1. 1. 1. 1.]\n",
      "  [1. 1. 1. 1. 1.]\n",
      "  [1. 1. 1. 1. 1.]]\n",
      "\n",
      " [[1. 1. 1. 1. 1.]\n",
      "  [1. 1. 1. 1. 1.]\n",
      "  [1. 1. 1. 1. 1.]]]\n"
     ]
    }
   ],
   "source": [
    "c = b.transpose(1,2,0)\n",
    "print(c)\n"
   ]
  },
  {
   "cell_type": "markdown",
   "id": "alive-cowboy",
   "metadata": {},
   "source": [
    "# 10. Try to add a and c. Now it should work. Assign the sum to varialbe \"d\". But why does it work now?"
   ]
  },
  {
   "cell_type": "code",
   "execution_count": 10,
   "id": "loving-patio",
   "metadata": {},
   "outputs": [
    {
     "name": "stdout",
     "output_type": "stream",
     "text": [
      "[[[1.61835338 1.4318822  1.3321428  1.6003409  1.50504851]\n",
      "  [1.27231101 1.6494446  1.80877892 1.01853542 1.01876546]\n",
      "  [1.39762229 1.69896694 1.9910836  1.37221002 1.82257278]]\n",
      "\n",
      " [[1.88116733 1.05073404 1.99497705 1.0896365  1.49318418]\n",
      "  [1.02213988 1.45213365 1.01392262 1.34545535 1.15921214]\n",
      "  [1.89587807 1.44441276 1.75688532 1.75088648 1.03803041]]]\n"
     ]
    }
   ],
   "source": [
    "d =np.add(a,c)\n",
    "print(d)\n",
    "#Structures have the same dimensions (x, y, z)"
   ]
  },
  {
   "cell_type": "markdown",
   "id": "stainless-wheel",
   "metadata": {},
   "source": [
    "# 11. Print a and d. Notice the difference and relation of the two array in terms of the values? Explain."
   ]
  },
  {
   "cell_type": "code",
   "execution_count": 11,
   "id": "major-computer",
   "metadata": {},
   "outputs": [
    {
     "name": "stdout",
     "output_type": "stream",
     "text": [
      "[[[0.61835338 0.4318822  0.3321428  0.6003409  0.50504851]\n",
      "  [0.27231101 0.6494446  0.80877892 0.01853542 0.01876546]\n",
      "  [0.39762229 0.69896694 0.9910836  0.37221002 0.82257278]]\n",
      "\n",
      " [[0.88116733 0.05073404 0.99497705 0.0896365  0.49318418]\n",
      "  [0.02213988 0.45213365 0.01392262 0.34545535 0.15921214]\n",
      "  [0.89587807 0.44441276 0.75688532 0.75088648 0.03803041]]]\n"
     ]
    }
   ],
   "source": [
    "print(a)"
   ]
  },
  {
   "cell_type": "code",
   "execution_count": 12,
   "id": "comprehensive-career",
   "metadata": {},
   "outputs": [
    {
     "name": "stdout",
     "output_type": "stream",
     "text": [
      "[[[1.61835338 1.4318822  1.3321428  1.6003409  1.50504851]\n",
      "  [1.27231101 1.6494446  1.80877892 1.01853542 1.01876546]\n",
      "  [1.39762229 1.69896694 1.9910836  1.37221002 1.82257278]]\n",
      "\n",
      " [[1.88116733 1.05073404 1.99497705 1.0896365  1.49318418]\n",
      "  [1.02213988 1.45213365 1.01392262 1.34545535 1.15921214]\n",
      "  [1.89587807 1.44441276 1.75688532 1.75088648 1.03803041]]]\n"
     ]
    }
   ],
   "source": [
    "print(d)"
   ]
  },
  {
   "cell_type": "code",
   "execution_count": 13,
   "id": "pointed-button",
   "metadata": {},
   "outputs": [],
   "source": [
    "# if d = a + c, then d - a = c as one can observe above"
   ]
  },
  {
   "cell_type": "markdown",
   "id": "loose-carry",
   "metadata": {},
   "source": [
    "# 12. Multiply a and c. Assign the result to e."
   ]
  },
  {
   "cell_type": "code",
   "execution_count": 14,
   "id": "competitive-scale",
   "metadata": {},
   "outputs": [],
   "source": [
    "e = a*c"
   ]
  },
  {
   "cell_type": "markdown",
   "id": "racial-sucking",
   "metadata": {},
   "source": [
    "# 13. Does e equal to a? Why or why not?"
   ]
  },
  {
   "cell_type": "code",
   "execution_count": 15,
   "id": "covered-receptor",
   "metadata": {},
   "outputs": [
    {
     "data": {
      "text/plain": [
       "array([[[ True,  True,  True,  True,  True],\n",
       "        [ True,  True,  True,  True,  True],\n",
       "        [ True,  True,  True,  True,  True]],\n",
       "\n",
       "       [[ True,  True,  True,  True,  True],\n",
       "        [ True,  True,  True,  True,  True],\n",
       "        [ True,  True,  True,  True,  True]]])"
      ]
     },
     "execution_count": 15,
     "metadata": {},
     "output_type": "execute_result"
    }
   ],
   "source": [
    "e == a\n",
    "\n",
    "#Because c is a structure with 1 only, and as this is the neutral element of multiplication, one should expect the equality"
   ]
  },
  {
   "cell_type": "markdown",
   "id": "peaceful-coral",
   "metadata": {},
   "source": [
    "# 14. Identify the max, min, and mean values in d. Assign those values to variables \"d_max\", \"d_min\", and \"d_mean\""
   ]
  },
  {
   "cell_type": "code",
   "execution_count": 16,
   "id": "korean-doctrine",
   "metadata": {},
   "outputs": [
    {
     "name": "stdout",
     "output_type": "stream",
     "text": [
      "max =  1.994977054877265 min =  1.013922619592621 mean =  1.464223820730275\n"
     ]
    }
   ],
   "source": [
    "print('max = ', d.max(), 'min = ', d.min(), 'mean = ', d.mean())"
   ]
  },
  {
   "cell_type": "markdown",
   "id": "expected-insured",
   "metadata": {},
   "source": [
    "# 15. Now we want to label the values in d. First create an empty array \"f\" with the same shape (i.e. 2x3x5) as d using `np.empty`."
   ]
  },
  {
   "cell_type": "code",
   "execution_count": 17,
   "id": "legislative-glossary",
   "metadata": {},
   "outputs": [
    {
     "name": "stdout",
     "output_type": "stream",
     "text": [
      "[[[1.61835338 1.4318822  1.3321428  1.6003409  1.50504851]\n",
      "  [1.27231101 1.6494446  1.80877892 1.01853542 1.01876546]\n",
      "  [1.39762229 1.69896694 1.9910836  1.37221002 1.82257278]]\n",
      "\n",
      " [[1.88116733 1.05073404 1.99497705 1.0896365  1.49318418]\n",
      "  [1.02213988 1.45213365 1.01392262 1.34545535 1.15921214]\n",
      "  [1.89587807 1.44441276 1.75688532 1.75088648 1.03803041]]]\n"
     ]
    }
   ],
   "source": [
    "f= np.empty((2,3,5))\n",
    "print(f) # it's empty, it uses a memory saved as values. Therefore, the numbers below do not represent f"
   ]
  },
  {
   "cell_type": "markdown",
   "id": "marked-documentary",
   "metadata": {},
   "source": [
    "# 16. Populate the values in f. For each value in d, if it's larger than d_min but smaller than d_mean, assign 25 to the corresponding value in f.\n",
    "If a value in d is larger than d_mean but smaller than d_max, assign 75 to the corresponding value in f.\n",
    "If a value equals to d_mean, assign 50 to the corresponding value in f.\n",
    "Assign 0 to the corresponding value(s) in f for d_min in d.\n",
    "Assign 100 to the corresponding value(s) in f for d_max in d.\n",
    "In the end, f should have only the following values: 0, 25, 50, 75, and 100.\n",
    "Note: you don't have to use Numpy in this question"
   ]
  },
  {
   "cell_type": "code",
   "execution_count": 40,
   "id": "lesser-click",
   "metadata": {},
   "outputs": [
    {
     "name": "stdout",
     "output_type": "stream",
     "text": [
      "max =  1.994977054877265 min =  1.013922619592621 mean =  1.464223820730275\n",
      "[[[1.61835338 1.4318822  1.3321428  1.6003409  1.50504851]\n",
      "  [1.27231101 1.6494446  1.80877892 1.01853542 1.01876546]\n",
      "  [1.39762229 1.69896694 1.9910836  1.37221002 1.82257278]]\n",
      "\n",
      " [[1.88116733 1.05073404 1.99497705 1.0896365  1.49318418]\n",
      "  [1.02213988 1.45213365 1.01392262 1.34545535 1.15921214]\n",
      "  [1.89587807 1.44441276 1.75688532 1.75088648 1.03803041]]]\n"
     ]
    }
   ],
   "source": [
    "print('max = ', d.max(), 'min = ', d.min(), 'mean = ', d.mean())\n",
    "d_max = d.max()\n",
    "d_min = d.min()\n",
    "d_mean = d.mean()\n",
    "print(d)"
   ]
  },
  {
   "cell_type": "code",
   "execution_count": 41,
   "id": "proved-budget",
   "metadata": {},
   "outputs": [
    {
     "name": "stdout",
     "output_type": "stream",
     "text": [
      "[[[ 75.  25.  25.  75.  75.]\n",
      "  [ 25.  75.  75.  25.  25.]\n",
      "  [ 25.  75.  75.  25.  75.]]\n",
      "\n",
      " [[ 75.  25. 100.  25.  75.]\n",
      "  [ 25.  25.   0.  25.  25.]\n",
      "  [ 75.  25.  75.  75.  25.]]]\n"
     ]
    }
   ],
   "source": [
    "\n",
    "for i in range(d.shape[0]):\n",
    "    for j in range(d.shape[1]):\n",
    "        for k in range(d.shape[2]):\n",
    "            if d[i][j][k] > d_min and d[i][j][k] < d.mean():\n",
    "                f[i][j][k] = 25\n",
    "            elif d[i][j][k] > d_mean and d[i][j][k] < d_max:\n",
    "                f[i][j][k] = 75\n",
    "            elif d[i][j][k] == d_min:\n",
    "                f[i][j][k] = 0\n",
    "            elif d[i][j][k] == d.mean():\n",
    "                f[i][j][k] = 50\n",
    "            elif f[i][j][k] == d_max:\n",
    "                f[i][j][k] = 100\n",
    "print(f)            "
   ]
  },
  {
   "cell_type": "markdown",
   "id": "revised-announcement",
   "metadata": {},
   "source": [
    "# 18. Bonus question: instead of using numbers (i.e. 0, 25, 50, 75, and 100), how to use string values \n",
    "(\"A\", \"B\", \"C\", \"D\", and \"E\") to label the array elements? You are expecting the result to be:\n",
    "array([[[ 'D',  'D',  'D',  'B',  'D'],\n",
    "        [ 'D',  'D',  'B',  'B',  'B'],\n",
    "        [ 'D',  'B',  'D',  'D',  'D']],\n",
    "\n",
    "       [[ 'B',  'B',  'B',  'B',  'E'],\n",
    "        [ 'D',  'D',  'D',  'D',  'D'],\n",
    "        [ 'B',  'D',   'A',  'D', 'D']]])\n",
    "Again, you don't need Numpy in this question.\n",
    "\"\"\""
   ]
  },
  {
   "cell_type": "code",
   "execution_count": 45,
   "id": "compatible-mitchell",
   "metadata": {},
   "outputs": [
    {
     "name": "stdout",
     "output_type": "stream",
     "text": [
      "[[['B' 'A' 'A' 'B' 'B']\n",
      "  ['A' 'B' 'B' 'A' 'A']\n",
      "  ['A' 'B' 'B' 'A' 'B']]\n",
      "\n",
      " [['B' 'A' '100.0' 'A' 'B']\n",
      "  ['A' 'A' 'C' 'A' 'A']\n",
      "  ['B' 'A' 'B' 'B' 'A']]]\n"
     ]
    }
   ],
   "source": [
    "f=f.astype(str)\n",
    "for i in range(d.shape[0]):\n",
    "    for j in range(d.shape[1]):\n",
    "        for k in range(d.shape[2]):\n",
    "            if d[i][j][k] > d_min and d[i][j][k] < d.mean():\n",
    "                f[i][j][k] = 'A'\n",
    "            elif d[i][j][k] > d_mean and d[i][j][k] < d_max:\n",
    "                f[i][j][k] = 'B'\n",
    "            elif d[i][j][k] == d_min:\n",
    "                f[i][j][k] = 'C'\n",
    "            elif d[i][j][k] == d.mean():\n",
    "                f[i][j][k] = 'D'\n",
    "            elif f[i][j][k] == d_max:\n",
    "                f[i][j][k] = 'E'\n",
    "print(f)  "
   ]
  }
 ],
 "metadata": {
  "kernelspec": {
   "display_name": "Python 3",
   "language": "python",
   "name": "python3"
  },
  "language_info": {
   "codemirror_mode": {
    "name": "ipython",
    "version": 3
   },
   "file_extension": ".py",
   "mimetype": "text/x-python",
   "name": "python",
   "nbconvert_exporter": "python",
   "pygments_lexer": "ipython3",
   "version": "3.9.2"
  }
 },
 "nbformat": 4,
 "nbformat_minor": 5
}
