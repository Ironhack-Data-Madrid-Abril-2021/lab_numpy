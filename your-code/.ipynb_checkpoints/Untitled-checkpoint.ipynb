{
 "cells": [
  {
   "cell_type": "code",
   "execution_count": 1,
   "metadata": {},
   "outputs": [],
   "source": [
    "#1. Import the NUMPY package under the name np.\n",
    "import numpy as np"
   ]
  },
  {
   "cell_type": "code",
   "execution_count": 2,
   "metadata": {},
   "outputs": [
    {
     "name": "stdout",
     "output_type": "stream",
     "text": [
      "<module 'numpy' from '/Users/joseignacioacasocastro/opt/anaconda3/envs/clase/lib/python3.8/site-packages/numpy/__init__.py'>\n"
     ]
    }
   ],
   "source": [
    "#2. Print the NUMPY version and the configuration.\n",
    "print (np)"
   ]
  },
  {
   "cell_type": "code",
   "execution_count": 3,
   "metadata": {},
   "outputs": [],
   "source": [
    "#3. Generate a 2x3x5 3-dimensional array with random values. Assign the array to variable \"a\"\n",
    "a=np.empty((2,3,5))"
   ]
  },
  {
   "cell_type": "code",
   "execution_count": 4,
   "metadata": {},
   "outputs": [
    {
     "name": "stdout",
     "output_type": "stream",
     "text": [
      "[[[-1.72723371e-077 -1.72723371e-077  7.41098469e-323  0.00000000e+000\n",
      "    8.50389957e-001]\n",
      "  [ 1.16097020e-028  1.68890874e-052  4.17451856e-057  8.97190388e-067\n",
      "    5.01163173e+217]\n",
      "  [ 8.37170074e-144  1.00588661e-070  1.14195126e-071  5.28110520e-091\n",
      "    9.35587710e-067]]\n",
      "\n",
      " [[ 5.01163119e+217  5.49419094e-143  9.80058441e+252  7.50189709e+247\n",
      "    1.35617292e+248]\n",
      "  [ 7.83892484e-067  2.38235493e+179  1.03979916e-042  2.69899405e-056\n",
      "    9.85297404e+165]\n",
      "  [ 5.04621361e+180  8.37170571e-144  9.30350598e+199  5.60230216e-067\n",
      "    2.08600674e-308]]]\n"
     ]
    }
   ],
   "source": [
    "#4. Print a.\n",
    "print (a)"
   ]
  },
  {
   "cell_type": "code",
   "execution_count": 5,
   "metadata": {},
   "outputs": [],
   "source": [
    "#5. Create a 5x2x3 3-dimensional array with all values equaling 1.\n",
    "b = np.ones((5, 2, 3))"
   ]
  },
  {
   "cell_type": "code",
   "execution_count": 6,
   "metadata": {},
   "outputs": [
    {
     "name": "stdout",
     "output_type": "stream",
     "text": [
      "[[[1. 1. 1.]\n",
      "  [1. 1. 1.]]\n",
      "\n",
      " [[1. 1. 1.]\n",
      "  [1. 1. 1.]]\n",
      "\n",
      " [[1. 1. 1.]\n",
      "  [1. 1. 1.]]\n",
      "\n",
      " [[1. 1. 1.]\n",
      "  [1. 1. 1.]]\n",
      "\n",
      " [[1. 1. 1.]\n",
      "  [1. 1. 1.]]]\n"
     ]
    }
   ],
   "source": [
    "#6. Print b.\n",
    "print (b)"
   ]
  },
  {
   "cell_type": "code",
   "execution_count": 7,
   "metadata": {},
   "outputs": [
    {
     "data": {
      "text/plain": [
       "True"
      ]
     },
     "execution_count": 7,
     "metadata": {},
     "output_type": "execute_result"
    }
   ],
   "source": [
    "#7. Do a and b have the same size? How do you prove that in Python code?\n",
    "b.size == a.size"
   ]
  },
  {
   "cell_type": "code",
   "execution_count": 8,
   "metadata": {},
   "outputs": [],
   "source": [
    "#8. Are you able to add a and b? Why or why not?\n",
    "#No, they have different dimensions."
   ]
  },
  {
   "cell_type": "code",
   "execution_count": 9,
   "metadata": {},
   "outputs": [
    {
     "name": "stdout",
     "output_type": "stream",
     "text": [
      "[[[1. 1. 1. 1. 1.]\n",
      "  [1. 1. 1. 1. 1.]\n",
      "  [1. 1. 1. 1. 1.]]\n",
      "\n",
      " [[1. 1. 1. 1. 1.]\n",
      "  [1. 1. 1. 1. 1.]\n",
      "  [1. 1. 1. 1. 1.]]]\n"
     ]
    }
   ],
   "source": [
    "#9. Transpose b so that it has the same structure of a (i.e. become a 2x3x5 array). Assign the transposed array to varialbe \"c\".\n",
    "c = np.transpose(b, (1,2,0))\n",
    "print (c)"
   ]
  },
  {
   "cell_type": "code",
   "execution_count": 10,
   "metadata": {},
   "outputs": [
    {
     "name": "stdout",
     "output_type": "stream",
     "text": [
      "[[[1.00000000e+000 1.00000000e+000 1.00000000e+000 1.00000000e+000\n",
      "   1.85038996e+000]\n",
      "  [1.00000000e+000 1.00000000e+000 1.00000000e+000 1.00000000e+000\n",
      "   5.01163173e+217]\n",
      "  [1.00000000e+000 1.00000000e+000 1.00000000e+000 1.00000000e+000\n",
      "   1.00000000e+000]]\n",
      "\n",
      " [[5.01163119e+217 1.00000000e+000 9.80058441e+252 7.50189709e+247\n",
      "   1.35617292e+248]\n",
      "  [1.00000000e+000 2.38235493e+179 1.00000000e+000 1.00000000e+000\n",
      "   9.85297404e+165]\n",
      "  [5.04621361e+180 1.00000000e+000 9.30350598e+199 1.00000000e+000\n",
      "   1.00000000e+000]]]\n"
     ]
    }
   ],
   "source": [
    "#10. Try to add a and c. Now it should work. Assign the sum to varialbe \"d\". But why does it work now?\n",
    "d = np.add(a,c)\n",
    "print (d)"
   ]
  },
  {
   "cell_type": "code",
   "execution_count": 12,
   "metadata": {},
   "outputs": [
    {
     "name": "stdout",
     "output_type": "stream",
     "text": [
      "[[[-1.72723371e-077 -1.72723371e-077  7.41098469e-323  0.00000000e+000\n",
      "    8.50389957e-001]\n",
      "  [ 1.16097020e-028  1.68890874e-052  4.17451856e-057  8.97190388e-067\n",
      "    5.01163173e+217]\n",
      "  [ 8.37170074e-144  1.00588661e-070  1.14195126e-071  5.28110520e-091\n",
      "    9.35587710e-067]]\n",
      "\n",
      " [[ 5.01163119e+217  5.49419094e-143  9.80058441e+252  7.50189709e+247\n",
      "    1.35617292e+248]\n",
      "  [ 7.83892484e-067  2.38235493e+179  1.03979916e-042  2.69899405e-056\n",
      "    9.85297404e+165]\n",
      "  [ 5.04621361e+180  8.37170571e-144  9.30350598e+199  5.60230216e-067\n",
      "    2.08600674e-308]]]\n",
      "[[[1.00000000e+000 1.00000000e+000 1.00000000e+000 1.00000000e+000\n",
      "   1.85038996e+000]\n",
      "  [1.00000000e+000 1.00000000e+000 1.00000000e+000 1.00000000e+000\n",
      "   5.01163173e+217]\n",
      "  [1.00000000e+000 1.00000000e+000 1.00000000e+000 1.00000000e+000\n",
      "   1.00000000e+000]]\n",
      "\n",
      " [[5.01163119e+217 1.00000000e+000 9.80058441e+252 7.50189709e+247\n",
      "   1.35617292e+248]\n",
      "  [1.00000000e+000 2.38235493e+179 1.00000000e+000 1.00000000e+000\n",
      "   9.85297404e+165]\n",
      "  [5.04621361e+180 1.00000000e+000 9.30350598e+199 1.00000000e+000\n",
      "   1.00000000e+000]]]\n"
     ]
    }
   ],
   "source": [
    "#11. Print a and d. Notice the difference and relation of the two array in terms of the values? Explain.\n",
    "print(a)\n",
    "print(d)"
   ]
  },
  {
   "cell_type": "code",
   "execution_count": 13,
   "metadata": {},
   "outputs": [],
   "source": [
    "#12. Multiply a and c. Assign the result to e.\n",
    "e = np.multiply(a,c)"
   ]
  },
  {
   "cell_type": "code",
   "execution_count": 14,
   "metadata": {},
   "outputs": [
    {
     "name": "stdout",
     "output_type": "stream",
     "text": [
      "[[[-1.72723371e-077 -1.72723371e-077  7.41098469e-323  0.00000000e+000\n",
      "    8.50389957e-001]\n",
      "  [ 1.16097020e-028  1.68890874e-052  4.17451856e-057  8.97190388e-067\n",
      "    5.01163173e+217]\n",
      "  [ 8.37170074e-144  1.00588661e-070  1.14195126e-071  5.28110520e-091\n",
      "    9.35587710e-067]]\n",
      "\n",
      " [[ 5.01163119e+217  5.49419094e-143  9.80058441e+252  7.50189709e+247\n",
      "    1.35617292e+248]\n",
      "  [ 7.83892484e-067  2.38235493e+179  1.03979916e-042  2.69899405e-056\n",
      "    9.85297404e+165]\n",
      "  [ 5.04621361e+180  8.37170571e-144  9.30350598e+199  5.60230216e-067\n",
      "    2.08600674e-308]]]\n"
     ]
    }
   ],
   "source": [
    "#13. Does e equal to a? Why or why not?\n",
    "print (e)"
   ]
  },
  {
   "cell_type": "code",
   "execution_count": 15,
   "metadata": {},
   "outputs": [
    {
     "name": "stdout",
     "output_type": "stream",
     "text": [
      "9.80058440676548e+252\n",
      "1.0\n",
      "3.2669316810096147e+251\n"
     ]
    }
   ],
   "source": [
    "#14. Identify the max, min, and mean values in d. Assign those values to variables \"d_max\", \"d_min\", and \"d_mean\"\n",
    "d_max = np.amax(d)\n",
    "d_min = np.min(d)\n",
    "d_mean = np.mean(d)\n",
    "print (d_max)\n",
    "print (d_min)\n",
    "print (d_mean)"
   ]
  },
  {
   "cell_type": "code",
   "execution_count": 16,
   "metadata": {},
   "outputs": [
    {
     "name": "stdout",
     "output_type": "stream",
     "text": [
      "[[[-1.72723371e-077 -1.72723371e-077  7.41098469e-323  0.00000000e+000\n",
      "    8.50389957e-001]\n",
      "  [ 1.16097020e-028  1.68890874e-052  4.17451856e-057  8.97190388e-067\n",
      "    5.01163173e+217]\n",
      "  [ 8.37170074e-144  1.00588661e-070  1.14195126e-071  5.28110520e-091\n",
      "    9.35587710e-067]]\n",
      "\n",
      " [[ 5.01163119e+217  5.49419094e-143  9.80058441e+252  7.50189709e+247\n",
      "    1.35617292e+248]\n",
      "  [ 7.83892484e-067  2.38235493e+179  1.03979916e-042  2.69899405e-056\n",
      "    9.85297404e+165]\n",
      "  [ 5.04621361e+180  8.37170571e-144  9.30350598e+199  5.60230216e-067\n",
      "    2.08600674e-308]]]\n"
     ]
    }
   ],
   "source": [
    "#15. Now we want to label the values in d. First create an empty array \"f\" with the same shape (i.e. 2x3x5) as d using `np.empty`.\n",
    "f = np.empty([2,3,5])\n",
    "print (f)"
   ]
  },
  {
   "cell_type": "code",
   "execution_count": null,
   "metadata": {},
   "outputs": [],
   "source": []
  }
 ],
 "metadata": {
  "kernelspec": {
   "display_name": "clase",
   "language": "python",
   "name": "clase"
  },
  "language_info": {
   "codemirror_mode": {
    "name": "ipython",
    "version": 3
   },
   "file_extension": ".py",
   "mimetype": "text/x-python",
   "name": "python",
   "nbconvert_exporter": "python",
   "pygments_lexer": "ipython3",
   "version": "3.8.8"
  }
 },
 "nbformat": 4,
 "nbformat_minor": 4
}
