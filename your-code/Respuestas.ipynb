{
 "cells": [
  {
   "cell_type": "code",
   "execution_count": 3,
   "metadata": {},
   "outputs": [],
   "source": [
    "import numpy as np"
   ]
  },
  {
   "cell_type": "code",
   "execution_count": 4,
   "metadata": {},
   "outputs": [
    {
     "data": {
      "text/plain": [
       "'1.19.2'"
      ]
     },
     "execution_count": 4,
     "metadata": {},
     "output_type": "execute_result"
    }
   ],
   "source": [
    "np.version.version"
   ]
  },
  {
   "cell_type": "code",
   "execution_count": 5,
   "metadata": {},
   "outputs": [],
   "source": [
    "a = np.random.random((2,3,5))"
   ]
  },
  {
   "cell_type": "code",
   "execution_count": 6,
   "metadata": {},
   "outputs": [
    {
     "data": {
      "text/plain": [
       "array([[[0.95488883, 0.5352634 , 0.31059417, 0.74508684, 0.97688017],\n",
       "        [0.19463748, 0.5022628 , 0.97437251, 0.75395419, 0.3581806 ],\n",
       "        [0.66474204, 0.5335506 , 0.67711696, 0.20224224, 0.88108493]],\n",
       "\n",
       "       [[0.56410228, 0.4256948 , 0.69016312, 0.62020059, 0.14525813],\n",
       "        [0.1334849 , 0.46578438, 0.08769199, 0.91430162, 0.47395915],\n",
       "        [0.45155184, 0.79858003, 0.03740097, 0.96239602, 0.84598788]]])"
      ]
     },
     "execution_count": 6,
     "metadata": {},
     "output_type": "execute_result"
    }
   ],
   "source": [
    "a"
   ]
  },
  {
   "cell_type": "code",
   "execution_count": 7,
   "metadata": {},
   "outputs": [],
   "source": [
    "b = np.ones((5,2,3))"
   ]
  },
  {
   "cell_type": "code",
   "execution_count": 8,
   "metadata": {},
   "outputs": [
    {
     "data": {
      "text/plain": [
       "array([[[1., 1., 1.],\n",
       "        [1., 1., 1.]],\n",
       "\n",
       "       [[1., 1., 1.],\n",
       "        [1., 1., 1.]],\n",
       "\n",
       "       [[1., 1., 1.],\n",
       "        [1., 1., 1.]],\n",
       "\n",
       "       [[1., 1., 1.],\n",
       "        [1., 1., 1.]],\n",
       "\n",
       "       [[1., 1., 1.],\n",
       "        [1., 1., 1.]]])"
      ]
     },
     "execution_count": 8,
     "metadata": {},
     "output_type": "execute_result"
    }
   ],
   "source": [
    "b"
   ]
  },
  {
   "cell_type": "code",
   "execution_count": 9,
   "metadata": {},
   "outputs": [
    {
     "data": {
      "text/plain": [
       "30"
      ]
     },
     "execution_count": 9,
     "metadata": {},
     "output_type": "execute_result"
    }
   ],
   "source": [
    "b.shape\n",
    "\n",
    "b.size"
   ]
  },
  {
   "cell_type": "code",
   "execution_count": 10,
   "metadata": {},
   "outputs": [
    {
     "data": {
      "text/plain": [
       "30"
      ]
     },
     "execution_count": 10,
     "metadata": {},
     "output_type": "execute_result"
    }
   ],
   "source": [
    "a.size   # Si tienen la misma 'size'"
   ]
  },
  {
   "cell_type": "code",
   "execution_count": 11,
   "metadata": {},
   "outputs": [
    {
     "data": {
      "text/plain": [
       "True"
      ]
     },
     "execution_count": 11,
     "metadata": {},
     "output_type": "execute_result"
    }
   ],
   "source": [
    "a.size == b.size"
   ]
  },
  {
   "cell_type": "code",
   "execution_count": 12,
   "metadata": {},
   "outputs": [
    {
     "ename": "ValueError",
     "evalue": "operands could not be broadcast together with shapes (2,3,5) (5,2,3) ",
     "output_type": "error",
     "traceback": [
      "\u001b[0;31m---------------------------------------------------------------------------\u001b[0m",
      "\u001b[0;31mValueError\u001b[0m                                Traceback (most recent call last)",
      "\u001b[0;32m<ipython-input-12-1e62d7acba31>\u001b[0m in \u001b[0;36m<module>\u001b[0;34m\u001b[0m\n\u001b[0;32m----> 1\u001b[0;31m \u001b[0mnp\u001b[0m\u001b[0;34m.\u001b[0m\u001b[0madd\u001b[0m\u001b[0;34m(\u001b[0m\u001b[0ma\u001b[0m\u001b[0;34m,\u001b[0m \u001b[0mb\u001b[0m\u001b[0;34m)\u001b[0m \u001b[0;31m#No se pueden sumar, sus dimensiones no son válidas para la suma\u001b[0m\u001b[0;34m\u001b[0m\u001b[0;34m\u001b[0m\u001b[0m\n\u001b[0m",
      "\u001b[0;31mValueError\u001b[0m: operands could not be broadcast together with shapes (2,3,5) (5,2,3) "
     ]
    }
   ],
   "source": [
    "np.add(a, b) #No se pueden sumar, sus dimensiones no son válidas para la suma"
   ]
  },
  {
   "cell_type": "code",
   "execution_count": 13,
   "metadata": {
    "scrolled": true
   },
   "outputs": [
    {
     "data": {
      "text/plain": [
       "array([[[1., 1., 1., 1., 1.],\n",
       "        [1., 1., 1., 1., 1.],\n",
       "        [1., 1., 1., 1., 1.]],\n",
       "\n",
       "       [[1., 1., 1., 1., 1.],\n",
       "        [1., 1., 1., 1., 1.],\n",
       "        [1., 1., 1., 1., 1.]]])"
      ]
     },
     "execution_count": 13,
     "metadata": {},
     "output_type": "execute_result"
    }
   ],
   "source": [
    "b.transpose((1,2,0))"
   ]
  },
  {
   "cell_type": "code",
   "execution_count": 14,
   "metadata": {},
   "outputs": [
    {
     "data": {
      "text/plain": [
       "array([[[1., 1., 1., 1., 1.],\n",
       "        [1., 1., 1., 1., 1.],\n",
       "        [1., 1., 1., 1., 1.]],\n",
       "\n",
       "       [[1., 1., 1., 1., 1.],\n",
       "        [1., 1., 1., 1., 1.],\n",
       "        [1., 1., 1., 1., 1.]]])"
      ]
     },
     "execution_count": 14,
     "metadata": {},
     "output_type": "execute_result"
    }
   ],
   "source": [
    "c= b.transpose((1,2,0))\n",
    "c"
   ]
  },
  {
   "cell_type": "code",
   "execution_count": 15,
   "metadata": {},
   "outputs": [
    {
     "data": {
      "text/plain": [
       "array([[[1.95488883, 1.5352634 , 1.31059417, 1.74508684, 1.97688017],\n",
       "        [1.19463748, 1.5022628 , 1.97437251, 1.75395419, 1.3581806 ],\n",
       "        [1.66474204, 1.5335506 , 1.67711696, 1.20224224, 1.88108493]],\n",
       "\n",
       "       [[1.56410228, 1.4256948 , 1.69016312, 1.62020059, 1.14525813],\n",
       "        [1.1334849 , 1.46578438, 1.08769199, 1.91430162, 1.47395915],\n",
       "        [1.45155184, 1.79858003, 1.03740097, 1.96239602, 1.84598788]]])"
      ]
     },
     "execution_count": 15,
     "metadata": {},
     "output_type": "execute_result"
    }
   ],
   "source": [
    "np.add(a, c)"
   ]
  },
  {
   "cell_type": "code",
   "execution_count": 16,
   "metadata": {},
   "outputs": [],
   "source": [
    "d = np.add(a, c)"
   ]
  },
  {
   "cell_type": "code",
   "execution_count": 17,
   "metadata": {},
   "outputs": [
    {
     "data": {
      "text/plain": [
       "array([[[0.95488883, 0.5352634 , 0.31059417, 0.74508684, 0.97688017],\n",
       "        [0.19463748, 0.5022628 , 0.97437251, 0.75395419, 0.3581806 ],\n",
       "        [0.66474204, 0.5335506 , 0.67711696, 0.20224224, 0.88108493]],\n",
       "\n",
       "       [[0.56410228, 0.4256948 , 0.69016312, 0.62020059, 0.14525813],\n",
       "        [0.1334849 , 0.46578438, 0.08769199, 0.91430162, 0.47395915],\n",
       "        [0.45155184, 0.79858003, 0.03740097, 0.96239602, 0.84598788]]])"
      ]
     },
     "execution_count": 17,
     "metadata": {},
     "output_type": "execute_result"
    }
   ],
   "source": [
    "a"
   ]
  },
  {
   "cell_type": "code",
   "execution_count": 18,
   "metadata": {},
   "outputs": [
    {
     "data": {
      "text/plain": [
       "array([[[1.95488883, 1.5352634 , 1.31059417, 1.74508684, 1.97688017],\n",
       "        [1.19463748, 1.5022628 , 1.97437251, 1.75395419, 1.3581806 ],\n",
       "        [1.66474204, 1.5335506 , 1.67711696, 1.20224224, 1.88108493]],\n",
       "\n",
       "       [[1.56410228, 1.4256948 , 1.69016312, 1.62020059, 1.14525813],\n",
       "        [1.1334849 , 1.46578438, 1.08769199, 1.91430162, 1.47395915],\n",
       "        [1.45155184, 1.79858003, 1.03740097, 1.96239602, 1.84598788]]])"
      ]
     },
     "execution_count": 18,
     "metadata": {},
     "output_type": "execute_result"
    }
   ],
   "source": [
    "d"
   ]
  },
  {
   "cell_type": "code",
   "execution_count": 19,
   "metadata": {},
   "outputs": [],
   "source": [
    "# La diferencia es que a, es la matriz sin modificar creada aleatoriamente, y la matriz d, ha sumado la matriz a con la matriz b transformada en c para poder conseguir las mismas dimensiones y así sumarlas correctamente"
   ]
  },
  {
   "cell_type": "code",
   "execution_count": 20,
   "metadata": {},
   "outputs": [
    {
     "data": {
      "text/plain": [
       "array([[[0.95488883, 0.5352634 , 0.31059417, 0.74508684, 0.97688017],\n",
       "        [0.19463748, 0.5022628 , 0.97437251, 0.75395419, 0.3581806 ],\n",
       "        [0.66474204, 0.5335506 , 0.67711696, 0.20224224, 0.88108493]],\n",
       "\n",
       "       [[0.56410228, 0.4256948 , 0.69016312, 0.62020059, 0.14525813],\n",
       "        [0.1334849 , 0.46578438, 0.08769199, 0.91430162, 0.47395915],\n",
       "        [0.45155184, 0.79858003, 0.03740097, 0.96239602, 0.84598788]]])"
      ]
     },
     "execution_count": 20,
     "metadata": {},
     "output_type": "execute_result"
    }
   ],
   "source": [
    "np.multiply(a, c)"
   ]
  },
  {
   "cell_type": "code",
   "execution_count": 21,
   "metadata": {},
   "outputs": [],
   "source": [
    "e= np.multiply(a, c)"
   ]
  },
  {
   "cell_type": "code",
   "execution_count": 22,
   "metadata": {},
   "outputs": [
    {
     "data": {
      "text/plain": [
       "array([[[False, False, False, False, False],\n",
       "        [False, False, False, False, False],\n",
       "        [False, False, False, False, False]],\n",
       "\n",
       "       [[False, False, False, False, False],\n",
       "        [False, False, False, False, False],\n",
       "        [False, False, False, False, False]]])"
      ]
     },
     "execution_count": 22,
     "metadata": {},
     "output_type": "execute_result"
    }
   ],
   "source": [
    "a == c"
   ]
  },
  {
   "cell_type": "code",
   "execution_count": 23,
   "metadata": {},
   "outputs": [],
   "source": [
    "# No son iguales porque no son True (Yona answer)"
   ]
  },
  {
   "cell_type": "code",
   "execution_count": 24,
   "metadata": {},
   "outputs": [
    {
     "data": {
      "text/plain": [
       "1.037400973077177"
      ]
     },
     "execution_count": 24,
     "metadata": {},
     "output_type": "execute_result"
    }
   ],
   "source": [
    "d.min() "
   ]
  },
  {
   "cell_type": "code",
   "execution_count": 25,
   "metadata": {},
   "outputs": [],
   "source": [
    "d_min=d.min() "
   ]
  },
  {
   "cell_type": "code",
   "execution_count": 26,
   "metadata": {},
   "outputs": [
    {
     "data": {
      "text/plain": [
       "1.976880168639687"
      ]
     },
     "execution_count": 26,
     "metadata": {},
     "output_type": "execute_result"
    }
   ],
   "source": [
    "d.max()"
   ]
  },
  {
   "cell_type": "code",
   "execution_count": 27,
   "metadata": {},
   "outputs": [],
   "source": [
    "d_max=d.max()"
   ]
  },
  {
   "cell_type": "code",
   "execution_count": 28,
   "metadata": {},
   "outputs": [
    {
     "data": {
      "text/plain": [
       "1.5627138492496395"
      ]
     },
     "execution_count": 28,
     "metadata": {},
     "output_type": "execute_result"
    }
   ],
   "source": [
    "d.mean()"
   ]
  },
  {
   "cell_type": "code",
   "execution_count": 29,
   "metadata": {},
   "outputs": [],
   "source": [
    "d_mean=d.mean()"
   ]
  },
  {
   "cell_type": "code",
   "execution_count": 30,
   "metadata": {},
   "outputs": [],
   "source": [
    "f = np.empty_like((d))"
   ]
  },
  {
   "cell_type": "code",
   "execution_count": 31,
   "metadata": {},
   "outputs": [
    {
     "data": {
      "text/plain": [
       "array([[[0.95488883, 0.5352634 , 0.31059417, 0.74508684, 0.97688017],\n",
       "        [0.19463748, 0.5022628 , 0.97437251, 0.75395419, 0.3581806 ],\n",
       "        [0.66474204, 0.5335506 , 0.67711696, 0.20224224, 0.88108493]],\n",
       "\n",
       "       [[0.56410228, 0.4256948 , 0.69016312, 0.62020059, 0.14525813],\n",
       "        [0.1334849 , 0.46578438, 0.08769199, 0.91430162, 0.47395915],\n",
       "        [0.45155184, 0.79858003, 0.03740097, 0.96239602, 0.84598788]]])"
      ]
     },
     "execution_count": 31,
     "metadata": {},
     "output_type": "execute_result"
    }
   ],
   "source": [
    "f"
   ]
  },
  {
   "cell_type": "code",
   "execution_count": 32,
   "metadata": {},
   "outputs": [
    {
     "name": "stdout",
     "output_type": "stream",
     "text": [
      "[[[7.50000000e+01 2.50000000e+01 2.50000000e+01 7.50000000e+01\n",
      "   9.76880169e-01]\n",
      "  [2.50000000e+01 2.50000000e+01 7.50000000e+01 7.50000000e+01\n",
      "   2.50000000e+01]\n",
      "  [7.50000000e+01 2.50000000e+01 7.50000000e+01 2.50000000e+01\n",
      "   7.50000000e+01]]\n",
      "\n",
      " [[7.50000000e+01 2.50000000e+01 7.50000000e+01 7.50000000e+01\n",
      "   2.50000000e+01]\n",
      "  [2.50000000e+01 2.50000000e+01 2.50000000e+01 7.50000000e+01\n",
      "   2.50000000e+01]\n",
      "  [2.50000000e+01 7.50000000e+01 3.74009731e-02 7.50000000e+01\n",
      "   7.50000000e+01]]]\n"
     ]
    }
   ],
   "source": [
    "for i in range(d.shape[0]):\n",
    "    for k in range(d.shape[1]):\n",
    "        for x in range(d.shape[2]):\n",
    "            if d[i][k][x] > d_min and d[i][k][x]< d_mean:\n",
    "                f[i][k][x] = 25\n",
    "            elif d[i][k][x] > d_mean and d[i][k][x] < d_max:\n",
    "                f[i][k][x]= 75\n",
    "            elif d[i][k][x] == d_mean:\n",
    "                f[i][k][x] = 50\n",
    "            elif d[i][k][x] == d_min:\n",
    "                f[i][k][x]== 0\n",
    "            elif d[i][k][x] == d_max:\n",
    "                f[i][k][x]== 100\n",
    "print (f)\n",
    "\n",
    "\n",
    "      "
   ]
  },
  {
   "cell_type": "code",
   "execution_count": null,
   "metadata": {},
   "outputs": [],
   "source": []
  },
  {
   "cell_type": "code",
   "execution_count": null,
   "metadata": {},
   "outputs": [],
   "source": []
  }
 ],
 "metadata": {
  "kernelspec": {
   "display_name": "Python 3",
   "language": "python",
   "name": "python3"
  },
  "language_info": {
   "codemirror_mode": {
    "name": "ipython",
    "version": 3
   },
   "file_extension": ".py",
   "mimetype": "text/x-python",
   "name": "python",
   "nbconvert_exporter": "python",
   "pygments_lexer": "ipython3",
   "version": "3.8.5"
  }
 },
 "nbformat": 4,
 "nbformat_minor": 4
}
