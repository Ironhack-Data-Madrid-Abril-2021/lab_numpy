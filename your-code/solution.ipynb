{
 "cells": [
  {
   "cell_type": "code",
   "execution_count": 1,
   "id": "proprietary-moral",
   "metadata": {},
   "outputs": [],
   "source": [
    "#1. Import the NUMPY package under the name np."
   ]
  },
  {
   "cell_type": "code",
   "execution_count": 2,
   "id": "synthetic-victoria",
   "metadata": {},
   "outputs": [],
   "source": [
    "import numpy as np"
   ]
  },
  {
   "cell_type": "code",
   "execution_count": 3,
   "id": "subjective-eight",
   "metadata": {},
   "outputs": [],
   "source": [
    "#2. Print the NUMPY version and the configuration."
   ]
  },
  {
   "cell_type": "code",
   "execution_count": 4,
   "id": "fuzzy-nicaragua",
   "metadata": {},
   "outputs": [
    {
     "data": {
      "text/plain": [
       "'1.19.2'"
      ]
     },
     "execution_count": 4,
     "metadata": {},
     "output_type": "execute_result"
    }
   ],
   "source": [
    "np.version.version"
   ]
  },
  {
   "cell_type": "code",
   "execution_count": 5,
   "id": "artificial-starter",
   "metadata": {},
   "outputs": [],
   "source": [
    "#3. Generate a 2x3x5 3-dimensional array with random values. Assign the array to variable \"a\"\n",
    "# Challenge: there are at least three easy ways that use numpy to generate random arrays. How many ways can you find?"
   ]
  },
  {
   "cell_type": "code",
   "execution_count": 6,
   "id": "fatal-island",
   "metadata": {},
   "outputs": [
    {
     "name": "stdout",
     "output_type": "stream",
     "text": [
      "[[[0.12846091 0.30968783 0.34745996 0.64577903 0.69219049]\n",
      "  [0.02933163 0.41328612 0.71460668 0.71692214 0.12520857]\n",
      "  [0.97306838 0.19095833 0.30229403 0.40264714 0.78230324]]\n",
      "\n",
      " [[0.8186667  0.85860014 0.47966551 0.08139366 0.42108645]\n",
      "  [0.87871965 0.04587185 0.31506361 0.11741594 0.52634272]\n",
      "  [0.89410901 0.61751422 0.2074533  0.52331373 0.14497558]]]\n"
     ]
    }
   ],
   "source": [
    "a = np.random.random((2, 3, 5))\n",
    "print(a)"
   ]
  },
  {
   "cell_type": "code",
   "execution_count": 7,
   "id": "unsigned-theater",
   "metadata": {},
   "outputs": [],
   "source": [
    "#5. Create a 5x2x3 3-dimensional array with all values equaling 1.\n",
    "#Assign the array to variable \"b\" "
   ]
  },
  {
   "cell_type": "code",
   "execution_count": 8,
   "id": "statewide-album",
   "metadata": {},
   "outputs": [
    {
     "name": "stdout",
     "output_type": "stream",
     "text": [
      "[[[1. 1. 1.]\n",
      "  [1. 1. 1.]]\n",
      "\n",
      " [[1. 1. 1.]\n",
      "  [1. 1. 1.]]\n",
      "\n",
      " [[1. 1. 1.]\n",
      "  [1. 1. 1.]]\n",
      "\n",
      " [[1. 1. 1.]\n",
      "  [1. 1. 1.]]\n",
      "\n",
      " [[1. 1. 1.]\n",
      "  [1. 1. 1.]]]\n"
     ]
    }
   ],
   "source": [
    "b = np.ones((5, 2, 3))\n",
    "print(b)"
   ]
  },
  {
   "cell_type": "code",
   "execution_count": 9,
   "id": "eastern-syndication",
   "metadata": {},
   "outputs": [],
   "source": [
    "#7. Do a and b have the same size? How do you prove that in Python code?"
   ]
  },
  {
   "cell_type": "code",
   "execution_count": 10,
   "id": "national-olympus",
   "metadata": {},
   "outputs": [
    {
     "data": {
      "text/plain": [
       "30"
      ]
     },
     "execution_count": 10,
     "metadata": {},
     "output_type": "execute_result"
    }
   ],
   "source": [
    "np.size(a)\n",
    "np.size(b)"
   ]
  },
  {
   "cell_type": "code",
   "execution_count": 11,
   "id": "auburn-highway",
   "metadata": {},
   "outputs": [],
   "source": [
    "#8. Are you able to add a and b? Why or why not?"
   ]
  },
  {
   "cell_type": "code",
   "execution_count": 12,
   "id": "interested-louisiana",
   "metadata": {},
   "outputs": [
    {
     "ename": "ValueError",
     "evalue": "operands could not be broadcast together with shapes (2,3,5) (5,2,3) ",
     "output_type": "error",
     "traceback": [
      "\u001b[0;31m---------------------------------------------------------------------------\u001b[0m",
      "\u001b[0;31mValueError\u001b[0m                                Traceback (most recent call last)",
      "\u001b[0;32m<ipython-input-12-ca730b97bf8a>\u001b[0m in \u001b[0;36m<module>\u001b[0;34m\u001b[0m\n\u001b[0;32m----> 1\u001b[0;31m \u001b[0ma\u001b[0m\u001b[0;34m+\u001b[0m\u001b[0mb\u001b[0m\u001b[0;34m\u001b[0m\u001b[0;34m\u001b[0m\u001b[0m\n\u001b[0m",
      "\u001b[0;31mValueError\u001b[0m: operands could not be broadcast together with shapes (2,3,5) (5,2,3) "
     ]
    }
   ],
   "source": [
    "a+b"
   ]
  },
  {
   "cell_type": "code",
   "execution_count": null,
   "id": "cosmetic-richmond",
   "metadata": {},
   "outputs": [],
   "source": [
    "#no puedo hacer esto porque no tienen las mismas dimensiones"
   ]
  },
  {
   "cell_type": "code",
   "execution_count": null,
   "id": "french-shift",
   "metadata": {},
   "outputs": [],
   "source": [
    "#9. Transpose b so that it has the same structure of a (i.e. become a 2x3x5 array). Assign the transposed array to varialbe \"c\"."
   ]
  },
  {
   "cell_type": "code",
   "execution_count": 13,
   "id": "suitable-smith",
   "metadata": {},
   "outputs": [
    {
     "name": "stdout",
     "output_type": "stream",
     "text": [
      "[[[1. 1. 1.]\n",
      "  [1. 1. 1.]]\n",
      "\n",
      " [[1. 1. 1.]\n",
      "  [1. 1. 1.]]\n",
      "\n",
      " [[1. 1. 1.]\n",
      "  [1. 1. 1.]]\n",
      "\n",
      " [[1. 1. 1.]\n",
      "  [1. 1. 1.]]\n",
      "\n",
      " [[1. 1. 1.]\n",
      "  [1. 1. 1.]]]\n"
     ]
    }
   ],
   "source": [
    "print(b)"
   ]
  },
  {
   "cell_type": "code",
   "execution_count": 14,
   "id": "eight-swedish",
   "metadata": {},
   "outputs": [],
   "source": [
    "c= b.transpose(1,2,0)\n"
   ]
  },
  {
   "cell_type": "code",
   "execution_count": 15,
   "id": "confirmed-straight",
   "metadata": {},
   "outputs": [
    {
     "name": "stdout",
     "output_type": "stream",
     "text": [
      "[[[1. 1. 1. 1. 1.]\n",
      "  [1. 1. 1. 1. 1.]\n",
      "  [1. 1. 1. 1. 1.]]\n",
      "\n",
      " [[1. 1. 1. 1. 1.]\n",
      "  [1. 1. 1. 1. 1.]\n",
      "  [1. 1. 1. 1. 1.]]]\n"
     ]
    }
   ],
   "source": [
    "print(c)"
   ]
  },
  {
   "cell_type": "code",
   "execution_count": 16,
   "id": "executed-setting",
   "metadata": {},
   "outputs": [
    {
     "data": {
      "text/plain": [
       "(2, 3, 5)"
      ]
     },
     "execution_count": 16,
     "metadata": {},
     "output_type": "execute_result"
    }
   ],
   "source": [
    "np.shape(c)"
   ]
  },
  {
   "cell_type": "code",
   "execution_count": 17,
   "id": "curious-publisher",
   "metadata": {},
   "outputs": [],
   "source": [
    "#10. Try to add a and c. Now it should work. Assign the sum to varialbe \"d\". But why does it work now?"
   ]
  },
  {
   "cell_type": "code",
   "execution_count": 18,
   "id": "exact-vietnamese",
   "metadata": {},
   "outputs": [],
   "source": [
    "d=a+c"
   ]
  },
  {
   "cell_type": "code",
   "execution_count": 19,
   "id": "annual-calculator",
   "metadata": {},
   "outputs": [],
   "source": [
    "#11. Print a and d. Notice the difference and relation of the two array in terms of the values? Explain."
   ]
  },
  {
   "cell_type": "code",
   "execution_count": 20,
   "id": "cheap-cinema",
   "metadata": {},
   "outputs": [
    {
     "data": {
      "text/plain": [
       "array([[[0.12846091, 0.30968783, 0.34745996, 0.64577903, 0.69219049],\n",
       "        [0.02933163, 0.41328612, 0.71460668, 0.71692214, 0.12520857],\n",
       "        [0.97306838, 0.19095833, 0.30229403, 0.40264714, 0.78230324]],\n",
       "\n",
       "       [[0.8186667 , 0.85860014, 0.47966551, 0.08139366, 0.42108645],\n",
       "        [0.87871965, 0.04587185, 0.31506361, 0.11741594, 0.52634272],\n",
       "        [0.89410901, 0.61751422, 0.2074533 , 0.52331373, 0.14497558]]])"
      ]
     },
     "execution_count": 20,
     "metadata": {},
     "output_type": "execute_result"
    }
   ],
   "source": [
    "a"
   ]
  },
  {
   "cell_type": "code",
   "execution_count": 21,
   "id": "aggregate-analyst",
   "metadata": {},
   "outputs": [
    {
     "data": {
      "text/plain": [
       "array([[[1.12846091, 1.30968783, 1.34745996, 1.64577903, 1.69219049],\n",
       "        [1.02933163, 1.41328612, 1.71460668, 1.71692214, 1.12520857],\n",
       "        [1.97306838, 1.19095833, 1.30229403, 1.40264714, 1.78230324]],\n",
       "\n",
       "       [[1.8186667 , 1.85860014, 1.47966551, 1.08139366, 1.42108645],\n",
       "        [1.87871965, 1.04587185, 1.31506361, 1.11741594, 1.52634272],\n",
       "        [1.89410901, 1.61751422, 1.2074533 , 1.52331373, 1.14497558]]])"
      ]
     },
     "execution_count": 21,
     "metadata": {},
     "output_type": "execute_result"
    }
   ],
   "source": [
    "d"
   ]
  },
  {
   "cell_type": "code",
   "execution_count": 22,
   "id": "third-screw",
   "metadata": {},
   "outputs": [],
   "source": [
    "#a es d-c (que es un array con 1s)"
   ]
  },
  {
   "cell_type": "code",
   "execution_count": 23,
   "id": "stupid-choir",
   "metadata": {},
   "outputs": [],
   "source": [
    "#12. Multiply a and c. Assign the result to e."
   ]
  },
  {
   "cell_type": "code",
   "execution_count": 24,
   "id": "unlikely-association",
   "metadata": {},
   "outputs": [],
   "source": [
    "e=a*c"
   ]
  },
  {
   "cell_type": "code",
   "execution_count": 25,
   "id": "undefined-comparison",
   "metadata": {},
   "outputs": [
    {
     "data": {
      "text/plain": [
       "array([[[0.12846091, 0.30968783, 0.34745996, 0.64577903, 0.69219049],\n",
       "        [0.02933163, 0.41328612, 0.71460668, 0.71692214, 0.12520857],\n",
       "        [0.97306838, 0.19095833, 0.30229403, 0.40264714, 0.78230324]],\n",
       "\n",
       "       [[0.8186667 , 0.85860014, 0.47966551, 0.08139366, 0.42108645],\n",
       "        [0.87871965, 0.04587185, 0.31506361, 0.11741594, 0.52634272],\n",
       "        [0.89410901, 0.61751422, 0.2074533 , 0.52331373, 0.14497558]]])"
      ]
     },
     "execution_count": 25,
     "metadata": {},
     "output_type": "execute_result"
    }
   ],
   "source": [
    "e"
   ]
  },
  {
   "cell_type": "code",
   "execution_count": 26,
   "id": "sophisticated-label",
   "metadata": {},
   "outputs": [
    {
     "data": {
      "text/plain": [
       "array([[[0.12846091, 0.30968783, 0.34745996, 0.64577903, 0.69219049],\n",
       "        [0.02933163, 0.41328612, 0.71460668, 0.71692214, 0.12520857],\n",
       "        [0.97306838, 0.19095833, 0.30229403, 0.40264714, 0.78230324]],\n",
       "\n",
       "       [[0.8186667 , 0.85860014, 0.47966551, 0.08139366, 0.42108645],\n",
       "        [0.87871965, 0.04587185, 0.31506361, 0.11741594, 0.52634272],\n",
       "        [0.89410901, 0.61751422, 0.2074533 , 0.52331373, 0.14497558]]])"
      ]
     },
     "execution_count": 26,
     "metadata": {},
     "output_type": "execute_result"
    }
   ],
   "source": [
    "a"
   ]
  },
  {
   "cell_type": "code",
   "execution_count": 27,
   "id": "attempted-denver",
   "metadata": {},
   "outputs": [],
   "source": [
    "# a = e"
   ]
  },
  {
   "cell_type": "code",
   "execution_count": 28,
   "id": "central-scheme",
   "metadata": {},
   "outputs": [],
   "source": [
    "#14. Identify the max, min, and mean values in d. Assign those values to variables \"d_max\", \"d_min\", and \"d_mean\""
   ]
  },
  {
   "cell_type": "code",
   "execution_count": 45,
   "id": "solar-color",
   "metadata": {},
   "outputs": [
    {
     "data": {
      "text/plain": [
       "0.9730683774789032"
      ]
     },
     "execution_count": 45,
     "metadata": {},
     "output_type": "execute_result"
    }
   ],
   "source": [
    "d_max = np.amax(e)\n",
    "d_max"
   ]
  },
  {
   "cell_type": "code",
   "execution_count": 30,
   "id": "turned-insurance",
   "metadata": {},
   "outputs": [
    {
     "data": {
      "text/plain": [
       "0.029331627500470137"
      ]
     },
     "execution_count": 30,
     "metadata": {},
     "output_type": "execute_result"
    }
   ],
   "source": [
    "d_min = np.amin(e)\n",
    "d_min"
   ]
  },
  {
   "cell_type": "code",
   "execution_count": 55,
   "id": "fleet-teaching",
   "metadata": {},
   "outputs": [
    {
     "data": {
      "text/plain": [
       "0.45681321801073926"
      ]
     },
     "execution_count": 55,
     "metadata": {},
     "output_type": "execute_result"
    }
   ],
   "source": [
    "d_mean = np.mean(e)\n",
    "d_mean"
   ]
  },
  {
   "cell_type": "code",
   "execution_count": 32,
   "id": "combined-growing",
   "metadata": {},
   "outputs": [],
   "source": [
    "#15. Now we want to label the values in d. First create an empty array \"f\" with the same shape (i.e. 2x3x5) as d using `np.empty`."
   ]
  },
  {
   "cell_type": "code",
   "execution_count": 33,
   "id": "opponent-pressing",
   "metadata": {},
   "outputs": [],
   "source": [
    "import numpy as np"
   ]
  },
  {
   "cell_type": "code",
   "execution_count": 34,
   "id": "parental-legislation",
   "metadata": {},
   "outputs": [],
   "source": [
    "f=np.empty_like(d)"
   ]
  },
  {
   "cell_type": "code",
   "execution_count": 35,
   "id": "descending-catch",
   "metadata": {},
   "outputs": [
    {
     "data": {
      "text/plain": [
       "(2, 3, 5)"
      ]
     },
     "execution_count": 35,
     "metadata": {},
     "output_type": "execute_result"
    }
   ],
   "source": [
    "np.shape(f)"
   ]
  },
  {
   "cell_type": "code",
   "execution_count": 36,
   "id": "passive-chick",
   "metadata": {},
   "outputs": [
    {
     "data": {
      "text/plain": [
       "array([[[0.12846091, 0.30968783, 0.34745996, 0.64577903, 0.69219049],\n",
       "        [0.02933163, 0.41328612, 0.71460668, 0.71692214, 0.12520857],\n",
       "        [0.97306838, 0.19095833, 0.30229403, 0.40264714, 0.78230324]],\n",
       "\n",
       "       [[0.8186667 , 0.85860014, 0.47966551, 0.08139366, 0.42108645],\n",
       "        [0.87871965, 0.04587185, 0.31506361, 0.11741594, 0.52634272],\n",
       "        [0.89410901, 0.61751422, 0.2074533 , 0.52331373, 0.14497558]]])"
      ]
     },
     "execution_count": 36,
     "metadata": {},
     "output_type": "execute_result"
    }
   ],
   "source": [
    "f"
   ]
  },
  {
   "cell_type": "code",
   "execution_count": 58,
   "id": "offshore-external",
   "metadata": {},
   "outputs": [
    {
     "name": "stdout",
     "output_type": "stream",
     "text": [
      "0.45681321801073926\n",
      "0.029331627500470137\n",
      "0.9730683774789032\n"
     ]
    }
   ],
   "source": [
    "print(d_mean)\n",
    "print(d_min)\n",
    "print(d_max)\n",
    "\n",
    "for i in range(2):\n",
    "    for j in range(3):\n",
    "        for k in range(5):\n",
    "            if (f[i][j][k]>d_min) and (f[i][j][k] <d_mean):\n",
    "                f[i, j , k] = 75\n",
    "                print (f[i][j][k])\n",
    "            elif (f[i][j][k] < d_max) and (f[i][j][k] > d_mean):\n",
    "                f[i, j , k] = 25\n",
    "            elif f[i][j][k] == d_mean:\n",
    "                f[i, j , k] = 50\n",
    "            elif f[i][j][k] == d_max:\n",
    "                f[i, j , k] = 100\n",
    "            elif f[i][j][k] == d_min:\n",
    "                f[i, j , k] = 0"
   ]
  },
  {
   "cell_type": "code",
   "execution_count": 54,
   "id": "adjustable-trace",
   "metadata": {},
   "outputs": [
    {
     "data": {
      "text/plain": [
       "array([[[100., 100., 100., 100., 100.],\n",
       "        [100., 100., 100., 100., 100.],\n",
       "        [100., 100., 100., 100., 100.]],\n",
       "\n",
       "       [[100., 100., 100., 100., 100.],\n",
       "        [100., 100., 100., 100., 100.],\n",
       "        [100., 100., 100., 100., 100.]]])"
      ]
     },
     "execution_count": 54,
     "metadata": {},
     "output_type": "execute_result"
    }
   ],
   "source": [
    "f"
   ]
  },
  {
   "cell_type": "code",
   "execution_count": null,
   "id": "outer-sleep",
   "metadata": {},
   "outputs": [],
   "source": []
  },
  {
   "cell_type": "code",
   "execution_count": null,
   "id": "enormous-immune",
   "metadata": {},
   "outputs": [],
   "source": []
  }
 ],
 "metadata": {
  "kernelspec": {
   "display_name": "virtual",
   "language": "python",
   "name": "virtual"
  },
  "language_info": {
   "codemirror_mode": {
    "name": "ipython",
    "version": 3
   },
   "file_extension": ".py",
   "mimetype": "text/x-python",
   "name": "python",
   "nbconvert_exporter": "python",
   "pygments_lexer": "ipython3",
   "version": "3.8.5"
  }
 },
 "nbformat": 4,
 "nbformat_minor": 5
}
